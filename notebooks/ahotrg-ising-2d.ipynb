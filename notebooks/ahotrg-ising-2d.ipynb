{
 "cells": [
  {
   "cell_type": "markdown",
   "metadata": {},
   "source": [
    "# HOTRG with adaptive bond dimension $\\chi$"
   ]
  },
  {
   "cell_type": "code",
   "execution_count": 1,
   "metadata": {},
   "outputs": [],
   "source": [
    "import numpy as np\n",
    "from numpy.typing import ArrayLike\n",
    "import hotrg\n",
    "import ipywidgets as widgets\n",
    "import matplotlib.pyplot as plt\n",
    "%config InlineBackend.figure_formats = [\"svg\"]\n",
    "import itertools\n",
    "from tqdm.auto import tqdm\n",
    "import cProfile\n",
    "import opt_einsum as oe"
   ]
  },
  {
   "cell_type": "code",
   "execution_count": 2,
   "metadata": {},
   "outputs": [
    {
     "data": {
      "application/vnd.jupyter.widget-view+json": {
       "model_id": "a7d947e3ed8d4fccbe7c91f95cd3c8e7",
       "version_major": 2,
       "version_minor": 0
      },
      "text/plain": [
       "FloatSlider(value=2.0, max=5.0, min=2.0)"
      ]
     },
     "metadata": {},
     "output_type": "display_data"
    }
   ],
   "source": [
    "temperature = widgets.FloatSlider(min=2.0, max=5.0)\n",
    "temperature"
   ]
  },
  {
   "cell_type": "code",
   "execution_count": 5,
   "metadata": {},
   "outputs": [
    {
     "data": {
      "application/vnd.jupyter.widget-view+json": {
       "model_id": "5384d83c92d747bbab8a8c37ccf14e50",
       "version_major": 2,
       "version_minor": 0
      },
      "text/plain": [
       "IntRangeSlider(value=(8, 12), max=16, min=8)"
      ]
     },
     "metadata": {},
     "output_type": "display_data"
    }
   ],
   "source": [
    "chi = widgets.IntRangeSlider(min=8, max=16, value=(8, 12))\n",
    "chi"
   ]
  },
  {
   "cell_type": "code",
   "execution_count": 11,
   "metadata": {},
   "outputs": [
    {
     "data": {
      "application/vnd.jupyter.widget-view+json": {
       "model_id": "f457795b70464d01a8c9d33620a3c75a",
       "version_major": 2,
       "version_minor": 0
      },
      "text/plain": [
       "FloatLogSlider(value=1e-06, max=-4.0, min=-15.0, step=1.0)"
      ]
     },
     "metadata": {},
     "output_type": "display_data"
    }
   ],
   "source": [
    "tol = widgets.FloatLogSlider(value=1e-6, base=10, min=-15, max=-4, step=1)\n",
    "tol"
   ]
  },
  {
   "cell_type": "code",
   "execution_count": 23,
   "metadata": {},
   "outputs": [],
   "source": [
    "def run_iterations(H: ArrayLike, T: ArrayLike, magnetization: list[float], tol: float = 1e-6, max_bond: int = 8, max_it: int = 20):\n",
    "\tstop = False\n",
    "\tn = 0\n",
    "\n",
    "\twhile not stop:\n",
    "\t\tfor permutator in itertools.islice(itertools.cycle([(0,1,3,2), (2,3,0,1)]), 4):\n",
    "\t\t\tH, T = hotrg.iterate(H, T, max_bond)\n",
    "\t\t\tH = H.transpose(permutator)\n",
    "\t\t\tT = T.transpose(permutator)\n",
    "\n",
    "\t\tmagnetization.append(hotrg.trace(H)/hotrg.trace(T))\n",
    "\t\tratio = magnetization[-2] / magnetization[-1]\n",
    "\n",
    "\t\tprint(f\"magnetization = {magnetization[-1]} ({ratio=})\")\n",
    "\n",
    "\t\tstop = 1 - tol < ratio < 1 + tol\n",
    "\t\tn += 1\n",
    "\n",
    "\treturn H, T, n"
   ]
  },
  {
   "cell_type": "code",
   "execution_count": 30,
   "metadata": {},
   "outputs": [
    {
     "name": "stdout",
     "output_type": "stream",
     "text": [
      "magnetization = -2.296598941053157e-16 (ratio=-0.0)\n",
      "magnetization = -2.8855768381777558e-15 (ratio=0.07958890266472547)\n",
      "magnetization = -1.938728847367614e-11 (ratio=0.00014883859814103257)\n",
      "magnetization = 1.9152665325075858e-07 (ratio=-0.00010122501565509578)\n",
      "magnetization = 2.614339839897887e-06 (ratio=0.07326004459245795)\n",
      "magnetization = 4.2111705087438905e-05 (ratio=0.062081073052482345)\n",
      "magnetization = 0.0006748383661961874 (ratio=0.062402654023372896)\n",
      "magnetization = 0.01079978863424202 (ratio=0.062486256819557724)\n",
      "magnetization = 0.1707678169652989 (ratio=0.06324252910275596)\n",
      "magnetization = 0.9075056352842724 (ratio=0.18817273449966687)\n",
      "magnetization = 0.9117301360466028 (ratio=0.9953665009027249)\n",
      "magnetization = 0.9117299721453299 (ratio=1.0000001797695348)\n",
      "magnetization = 0.9117298082873208 (ratio=1.0000001797221147)\n",
      "magnetization = 0.9117296443593851 (ratio=1.0000001797988436)\n",
      "magnetization = 0.911729480661665 (ratio=1.0000001795463715)\n",
      "magnetization = 0.9117293167098551 (ratio=1.0000001798250937)\n",
      "magnetization = 0.9117291535020424 (ratio=1.0000001790090973)\n",
      "magnetization = 0.9117289922776469 (ratio=1.0000001768336828)\n",
      "magnetization = 0.9117289450972114 (ratio=1.0000000517483139)\n",
      "----\n",
      "max_bond=8 completed in n=19 iterations with tolerance=1e-07\n",
      "\n",
      "magnetization = 0.9117288998999054 (ratio=1.0000000495731856)\n",
      "----\n",
      "max_bond=10 completed in n=1 iterations with tolerance=1e-07\n",
      "\n",
      "magnetization = 0.911728735949832 (ratio=1.0000001798233038)\n",
      "magnetization = 0.9117287789931963 (ratio=0.9999999527892885)\n",
      "----\n",
      "max_bond=12 completed in n=2 iterations with tolerance=1e-07\n",
      "\n",
      "magnetization = 0.9117287171530232 (ratio=1.0000000678273833)\n",
      "----\n",
      "max_bond=14 completed in n=1 iterations with tolerance=1e-07\n",
      "\n"
     ]
    }
   ],
   "source": [
    "T = hotrg.ising.partition_tensor(temperature.value)\n",
    "H = hotrg.ising.magnetization(temperature.value)\n",
    "magnetization = [hotrg.trace(H)/hotrg.trace(T)]\n",
    "\n",
    "max_bond = chi.value[0]\n",
    "\n",
    "tolerance = tol.value\n",
    "stop = False\n",
    "\n",
    "with cProfile.Profile() as profile:\n",
    "\tfor max_bond in range(chi.value[0], chi.value[1]+1, 2):\n",
    "\t\tH, T, n = run_iterations(H, T, magnetization, max_bond=max_bond, tol=tolerance)\n",
    "\t\tprint(f\"----\\n{max_bond=} completed in {n=} iterations with {tolerance=}\\n\")\n",
    "\t\t# tolerance /= 10"
   ]
  },
  {
   "cell_type": "code",
   "execution_count": 14,
   "metadata": {},
   "outputs": [
    {
     "name": "stdout",
     "output_type": "stream",
     "text": [
      "         68644 function calls (67972 primitive calls) in 14.511 seconds\n",
      "\n",
      "   Ordered by: internal time\n",
      "\n",
      "   ncalls  tottime  percall  cumtime  percall filename:lineno(function)\n",
      "       96   12.079    0.126   12.141    0.126 linalg.py:1477(svd)\n",
      " 1128/840    1.608    0.001   13.855    0.016 {built-in method numpy.core._multiarray_umath.implement_array_function}\n",
      "     1056    0.138    0.000    0.138    0.000 {method 'reshape' of 'numpy.ndarray' objects}\n",
      "       48    0.121    0.003    0.142    0.003 tn.py:19(error_right)\n",
      "       48    0.119    0.002    0.132    0.003 tn.py:15(error_left)\n",
      "       48    0.109    0.002   12.278    0.256 hosvd.py:43(hosvd_sides)\n",
      "      720    0.065    0.000    0.065    0.000 {method 'reduce' of 'numpy.ufunc' objects}\n",
      "      288    0.058    0.000    0.058    0.000 {method 'astype' of 'numpy.ndarray' objects}\n",
      "      216    0.022    0.000    0.110    0.001 contract.py:93(contract_path)\n",
      "      288    0.015    0.000    1.656    0.006 numeric.py:949(tensordot)\n",
      "       96    0.015    0.000    0.017    0.000 paths.py:63(ssa_to_linear)\n",
      "      216    0.014    0.000    1.703    0.008 contract.py:530(_core_contract)\n",
      "      216    0.007    0.000    1.822    0.008 contract.py:378(contract)\n",
      "      312    0.007    0.000    0.010    0.000 blas.py:12(can_blas)\n",
      "       96    0.006    0.000    1.119    0.012 tn.py:11(update_tensor)\n",
      "   480/96    0.006    0.000    0.014    0.000 paths.py:190(_optimal_iterate)\n",
      "     7200    0.006    0.000    0.006    0.000 {built-in method builtins.len}\n",
      "       48    0.006    0.000   14.499    0.302 __init__.py:6(iterate)\n",
      "      576    0.005    0.000    0.008    0.000 paths.py:100(calc_k12_flops)\n",
      "     1656    0.004    0.000    0.011    0.000 parser.py:154(<genexpr>)\n",
      "       12    0.004    0.000    0.004    0.000 socket.py:543(send)\n",
      "     2544    0.004    0.000    0.005    0.000 {built-in method builtins.max}\n",
      "      216    0.004    0.000    0.008    0.000 parser.py:246(parse_einsum_input)\n",
      "      216    0.004    0.000    0.004    0.000 contract.py:510(infer_backend)\n",
      "     2136    0.003    0.000    0.003    0.000 helpers.py:53(compute_size_by_dict)\n",
      "      312    0.003    0.000    0.006    0.000 helpers.py:82(find_contraction)\n",
      "      720    0.003    0.000    0.003    0.000 {built-in method builtins.sorted}\n",
      "      288    0.003    0.000    1.602    0.006 <__array_function__ internals>:177(dot)\n",
      "     1104    0.003    0.000    0.006    0.000 helpers.py:137(flop_count)\n",
      "      288    0.002    0.000    1.667    0.006 contract.py:369(_tensordot)\n",
      "       96    0.002    0.000    0.032    0.000 paths.py:152(optimal)\n",
      "       96    0.002    0.000    0.812    0.008 tn.py:6(contract_tensors)\n",
      "      144    0.002    0.000    0.040    0.000 fromnumeric.py:69(_wrapreduction)\n",
      "      504    0.002    0.000    0.003    0.000 sharing.py:23(currently_sharing)\n",
      "       96    0.002    0.000    0.003    0.000 shape_base.py:81(atleast_2d)\n",
      "     3372    0.002    0.000    0.002    0.000 {method 'append' of 'list' objects}\n",
      "      912    0.002    0.000    0.002    0.000 {method 'transpose' of 'numpy.ndarray' objects}\n",
      "     3912    0.002    0.000    0.002    0.000 {method 'count' of 'str' objects}\n",
      "      312    0.002    0.000    0.013    0.000 parser.py:141(find_output_shape)\n",
      "     3840    0.002    0.000    0.002    0.000 {method 'find' of 'str' objects}\n",
      "       96    0.002    0.000    0.032    0.000 fromnumeric.py:2162(sum)\n",
      "      504    0.002    0.000    0.002    0.000 dispatch.py:60(get_func)\n",
      "     1344    0.002    0.000    0.002    0.000 parser.py:155(<listcomp>)\n",
      "      288    0.002    0.000    1.670    0.006 sharing.py:128(cached_tensordot)\n",
      "     1440    0.001    0.000    0.001    0.000 {method 'split' of 'str' objects}\n",
      "      288    0.001    0.000    1.664    0.006 <__array_function__ internals>:177(tensordot)\n",
      "     2688    0.001    0.000    0.001    0.000 parser.py:155(<genexpr>)\n",
      "      792    0.001    0.000    0.002    0.000 {method 'join' of 'str' objects}\n",
      "      216    0.001    0.000    0.002    0.000 contract.py:244(<listcomp>)\n",
      "     2400    0.001    0.000    0.001    0.000 {method 'pop' of 'list' objects}\n",
      "      312    0.001    0.000    0.001    0.000 contract.py:552(<listcomp>)\n",
      "       96    0.001    0.000    0.001    0.000 {built-in method numpy.arange}\n",
      "      216    0.001    0.000    0.002    0.000 parser.py:277(<listcomp>)\n",
      "       96    0.001    0.000    0.034    0.000 <__array_function__ internals>:177(sum)\n",
      "      192    0.001    0.000    0.006    0.000 contract.py:361(_transpose)\n",
      "     1632    0.001    0.000    0.001    0.000 contract.py:564(<genexpr>)\n",
      "       96    0.001    0.000    0.002    0.000 linalg.py:136(_commonType)\n",
      "      288    0.001    0.000    0.001    0.000 {built-in method builtins.getattr}\n",
      "      672    0.001    0.000    0.001    0.000 {built-in method builtins.isinstance}\n",
      "      192    0.001    0.000    0.004    0.000 <__array_function__ internals>:177(transpose)\n",
      "      216    0.001    0.000    0.005    0.000 contract.py:514(parse_backend)\n",
      "      912    0.001    0.000    0.001    0.000 helpers.py:126(<genexpr>)\n",
      "       96    0.001    0.000   12.142    0.126 <__array_function__ internals>:177(svd)\n",
      "       24    0.001    0.000    0.001    0.000 {built-in method numpy.core._multiarray_umath.c_einsum}\n",
      "      192    0.001    0.000    0.008    0.000 sharing.py:110(cached_transpose)\n",
      "      576    0.001    0.000    0.001    0.000 paths.py:74(<genexpr>)\n",
      "      216    0.001    0.000    0.001    0.000 contract.py:214(<listcomp>)\n",
      "      432    0.001    0.000    0.001    0.000 {built-in method builtins.sum}\n",
      "      192    0.001    0.000    0.001    0.000 linalg.py:130(_realType)\n",
      "      288    0.001    0.000    0.001    0.000 blas.py:85(<listcomp>)\n",
      "      192    0.001    0.000    0.002    0.000 fromnumeric.py:51(_wrapfunc)\n",
      "      624    0.001    0.000    0.001    0.000 {method 'union' of 'set' objects}\n",
      "      432    0.001    0.000    0.001    0.000 {method 'replace' of 'str' objects}\n",
      "      504    0.001    0.000    0.001    0.000 {built-in method builtins.hasattr}\n",
      "      504    0.001    0.000    0.001    0.000 {built-in method _thread.get_ident}\n",
      "       96    0.001    0.000    0.033    0.000 paths.py:1072(auto)\n",
      "     2616    0.001    0.000    0.001    0.000 {method 'pop' of 'dict' objects}\n",
      "       96    0.001    0.000    0.004    0.000 <__array_function__ internals>:177(atleast_2d)\n",
      "      192    0.001    0.000    0.002    0.000 fromnumeric.py:601(transpose)\n",
      "      504    0.000    0.000    0.001    0.000 parser.py:158(possibly_convert_to_numpy)\n",
      "       96    0.000    0.000    0.001    0.000 linalg.py:112(_makearray)\n",
      "      312    0.000    0.000    0.001    0.000 contract.py:289(<listcomp>)\n",
      "      216    0.000    0.000    0.000    0.000 contract.py:74(_choose_memory_arg)\n",
      "      720    0.000    0.000    0.000    0.000 contract.py:253(<genexpr>)\n",
      "       24    0.000    0.000    0.005    0.000 iostream.py:518(write)\n",
      "      576    0.000    0.000    0.000    0.000 {method 'union' of 'frozenset' objects}\n",
      "      144    0.000    0.000    0.000    0.000 fromnumeric.py:70(<dictcomp>)\n",
      "      312    0.000    0.000    0.001    0.000 contract.py:290(<listcomp>)\n",
      "      288    0.000    0.000    0.000    0.000 numeric.py:1120(<listcomp>)\n",
      "      672    0.000    0.000    0.000    0.000 {built-in method numpy.asarray}\n",
      "       48    0.000    0.000    0.011    0.000 fromnumeric.py:2677(amax)\n",
      "       96    0.000    0.000    0.000    0.000 linalg.py:194(_assert_stacked_2d)\n",
      "      192    0.000    0.000    0.000    0.000 {method '__array_prepare__' of 'numpy.ndarray' objects}\n",
      "      216    0.000    0.000    0.000    0.000 contract.py:218(<listcomp>)\n",
      "      216    0.000    0.000    0.000    0.000 dispatch.py:94(has_tensordot)\n",
      "       96    0.000    0.000    0.000    0.000 linalg.py:107(get_linalg_error_extobj)\n",
      "      288    0.000    0.000    0.000    0.000 {method 'get' of 'dict' objects}\n",
      "      288    0.000    0.000    0.000    0.000 numeric.py:1125(<listcomp>)\n",
      "      576    0.000    0.000    0.000    0.000 {method 'items' of 'dict' objects}\n",
      "      288    0.000    0.000    0.000    0.000 numeric.py:1126(<listcomp>)\n",
      "      288    0.000    0.000    0.000    0.000 numeric.py:1128(<listcomp>)\n",
      "      288    0.000    0.000    0.000    0.000 multiarray.py:736(dot)\n",
      "      288    0.000    0.000    0.000    0.000 numeric.py:1134(<listcomp>)\n",
      "      288    0.000    0.000    0.000    0.000 {built-in method builtins.issubclass}\n",
      "      192    0.000    0.000    0.000    0.000 linalg.py:117(isComplexType)\n",
      "       24    0.000    0.000    0.002    0.000 contract.py:333(_einsum)\n",
      "      216    0.000    0.000    0.000    0.000 dispatch.py:76(has_einsum)\n",
      "      216    0.000    0.000    0.000    0.000 contract.py:475(<dictcomp>)\n",
      "       48    0.000    0.000    0.011    0.000 <__array_function__ internals>:177(amax)\n",
      "      288    0.000    0.000    0.000    0.000 {built-in method builtins.iter}\n",
      "       96    0.000    0.000    0.000    0.000 fromnumeric.py:2157(_sum_dispatcher)\n",
      "      288    0.000    0.000    0.000    0.000 numeric.py:1133(<listcomp>)\n",
      "       96    0.000    0.000    0.000    0.000 paths.py:1122(get_path_fn)\n",
      "      288    0.000    0.000    0.000    0.000 numeric.py:945(_tensordot_dispatcher)\n",
      "       12    0.000    0.000    0.005    0.000 iostream.py:202(schedule)\n",
      "       24    0.000    0.000    0.007    0.000 tn.py:23(trace)\n",
      "       24    0.000    0.000    0.002    0.000 sharing.py:148(cached_einsum)\n",
      "       12    0.000    0.000    0.005    0.000 {built-in method builtins.print}\n",
      "       12    0.000    0.000    0.000    0.000 threading.py:1169(is_alive)\n",
      "       24    0.000    0.000    0.005    0.000 iostream.py:448(_schedule_flush)\n",
      "      216    0.000    0.000    0.000    0.000 contract.py:489(<listcomp>)\n",
      "       96    0.000    0.000    0.000    0.000 linalg.py:1473(_svd_dispatcher)\n",
      "      192    0.000    0.000    0.000    0.000 fromnumeric.py:597(_transpose_dispatcher)\n",
      "       24    0.000    0.000    0.000    0.000 iostream.py:429(_is_master_process)\n",
      "       24    0.000    0.000    0.000    0.000 {built-in method builtins.all}\n",
      "      144    0.000    0.000    0.000    0.000 parser.py:21(is_valid_einsum_char)\n",
      "       96    0.000    0.000    0.000    0.000 {built-in method numpy.asanyarray}\n",
      "       24    0.000    0.000    0.000    0.000 {built-in method posix.getpid}\n",
      "       24    0.000    0.000    0.000    0.000 parser.py:35(has_valid_einsum_chars_only)\n",
      "       96    0.000    0.000    0.000    0.000 shape_base.py:77(_atleast_2d_dispatcher)\n",
      "       24    0.000    0.000    0.001    0.000 <__array_function__ internals>:177(einsum)\n",
      "       12    0.000    0.000    0.000    0.000 threading.py:1102(_wait_for_tstate_lock)\n",
      "       12    0.000    0.000    0.000    0.000 iostream.py:90(_event_pipe)\n",
      "       24    0.000    0.000    0.001    0.000 einsumfunc.py:1009(einsum)\n",
      "       96    0.000    0.000    0.000    0.000 einsumfunc.py:1001(_einsum_dispatcher)\n",
      "       13    0.000    0.000    0.000    0.000 traitlets.py:643(get)\n",
      "       13    0.000    0.000    0.000    0.000 traitlets.py:675(__get__)\n",
      "       48    0.000    0.000    0.000    0.000 fromnumeric.py:2672(_amax_dispatcher)\n",
      "       12    0.000    0.000    0.000    0.000 {method 'acquire' of '_thread.lock' objects}\n",
      "       24    0.000    0.000    0.000    0.000 {method 'write' of '_io.StringIO' objects}\n",
      "       24    0.000    0.000    0.000    0.000 {method '__exit__' of '_thread.RLock' objects}\n",
      "       12    0.000    0.000    0.000    0.000 threading.py:553(is_set)\n",
      "       12    0.000    0.000    0.000    0.000 {method 'append' of 'collections.deque' objects}\n",
      "        1    0.000    0.000    0.000    0.000 cProfile.py:117(__exit__)\n",
      "        1    0.000    0.000    0.000    0.000 {method 'disable' of '_lsprof.Profiler' objects}\n",
      "\n",
      "\n"
     ]
    }
   ],
   "source": [
    "profile.print_stats(\"tottime\")"
   ]
  },
  {
   "cell_type": "code",
   "execution_count": null,
   "metadata": {},
   "outputs": [],
   "source": []
  }
 ],
 "metadata": {
  "kernelspec": {
   "display_name": "Python 3.10.5 64-bit ('hotrg')",
   "language": "python",
   "name": "python3"
  },
  "language_info": {
   "codemirror_mode": {
    "name": "ipython",
    "version": 3
   },
   "file_extension": ".py",
   "mimetype": "text/x-python",
   "name": "python",
   "nbconvert_exporter": "python",
   "pygments_lexer": "ipython3",
   "version": "3.10.5"
  },
  "orig_nbformat": 4,
  "vscode": {
   "interpreter": {
    "hash": "c41102c023dd45a192812da0cf4074a63bc8a52571a475c6a33d200812a60702"
   }
  }
 },
 "nbformat": 4,
 "nbformat_minor": 2
}
