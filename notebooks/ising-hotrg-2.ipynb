{
 "cells": [
  {
   "cell_type": "code",
   "execution_count": 1,
   "metadata": {},
   "outputs": [],
   "source": [
    "import numpy as np\n",
    "import ten\n",
    "import ipywidgets as widgets\n",
    "import matplotlib.pyplot as plt\n",
    "%config InlineBackend.figure_formats = [\"svg\"]\n",
    "import itertools"
   ]
  },
  {
   "cell_type": "markdown",
   "metadata": {},
   "source": [
    "\n",
    "\n",
    "$$ m_i = \\begin{pmatrix}\n",
    "1 \\\\ -1\n",
    "\\end{pmatrix}\n",
    "$$"
   ]
  },
  {
   "cell_type": "code",
   "execution_count": 2,
   "metadata": {},
   "outputs": [
    {
     "data": {
      "application/vnd.jupyter.widget-view+json": {
       "model_id": "445e551e1e984d59a5328e09c59d9375",
       "version_major": 2,
       "version_minor": 0
      },
      "text/plain": [
       "FloatSlider(value=2.0, max=5.0, min=2.0)"
      ]
     },
     "metadata": {},
     "output_type": "display_data"
    }
   ],
   "source": [
    "temperature = widgets.FloatSlider(min=2, max=5)\n",
    "temperature"
   ]
  },
  {
   "cell_type": "code",
   "execution_count": 3,
   "metadata": {},
   "outputs": [
    {
     "data": {
      "application/vnd.jupyter.widget-view+json": {
       "model_id": "433a52d07d9c4ba290f1e14eb9a058b6",
       "version_major": 2,
       "version_minor": 0
      },
      "text/plain": [
       "IntSlider(value=8, max=24, min=8)"
      ]
     },
     "metadata": {},
     "output_type": "display_data"
    }
   ],
   "source": [
    "D = widgets.IntSlider(value=8, min=8, max=24)\n",
    "D"
   ]
  },
  {
   "cell_type": "code",
   "execution_count": 4,
   "metadata": {},
   "outputs": [
    {
     "data": {
      "application/vnd.jupyter.widget-view+json": {
       "model_id": "969a6ba3fea74d369578e6eec7ba9bea",
       "version_major": 2,
       "version_minor": 0
      },
      "text/plain": [
       "IntSlider(value=4, min=4)"
      ]
     },
     "metadata": {},
     "output_type": "display_data"
    }
   ],
   "source": [
    "steps = widgets.IntSlider(min=4, max=100)\n",
    "steps"
   ]
  },
  {
   "cell_type": "code",
   "execution_count": 5,
   "metadata": {},
   "outputs": [],
   "source": [
    "def trace(t):\n",
    "\treturn np.einsum(\"iijj->\", t)"
   ]
  },
  {
   "cell_type": "markdown",
   "metadata": {},
   "source": [
    "$$ Z = \\sum_{i} e^{- \\beta E_i} = \\text{Tr} \\prod_i T_{l_i r_i u_i d_i} $$"
   ]
  },
  {
   "cell_type": "markdown",
   "metadata": {},
   "source": [
    "$$ T^{(0)}_{lrud} = \\sum_\\alpha W_{\\alpha,l} ~ W_{\\alpha,r} ~ W_{\\alpha,u} ~ W_{\\alpha,d}$$\n",
    "\n",
    "$$ W_{ij} = \\begin{pmatrix}\n",
    "\\sqrt{\\cosh\\left(\\frac{1}{t}\\right)} & \\sqrt{\\sinh\\left(\\frac{1}{t}\\right)} \\\\\n",
    "\\sqrt{\\cosh\\left(\\frac{1}{t}\\right)} & -\\sqrt{\\sinh\\left(\\frac{1}{t}\\right)}\n",
    "\\end{pmatrix}\n",
    "$$"
   ]
  },
  {
   "cell_type": "markdown",
   "metadata": {},
   "source": [
    "$$ H^{(0)}_{lrud} = \\sum_\\alpha W_{\\alpha,l} ~ W_{\\alpha,r} ~ W_{\\alpha,u} ~ W_{\\alpha,d} ~ m_\\alpha ~~~~ \\text{where} ~~~~ m_\\alpha = \\begin{pmatrix} 1 \\\\ -1 \\end{pmatrix} $$"
   ]
  },
  {
   "cell_type": "markdown",
   "metadata": {},
   "source": [
    "$$ \\text{Magnetization} = \\frac{\\text{Tr}(H)}{\\text{Tr}(Z)} $$"
   ]
  },
  {
   "cell_type": "markdown",
   "metadata": {},
   "source": [
    "\n",
    "$$ M^{(n)}_{lrud} = \\sum_\\alpha T^{(n-1)}_{l_1 r_1 u \\alpha} T^{(n-1)}_{l_2 r_2 \\alpha d} ~~~~ \\text{where} ~~~~ l = l_1 \\otimes l_2, ~~ r = r_1 \\otimes r_2 $$"
   ]
  },
  {
   "cell_type": "code",
   "execution_count": 6,
   "metadata": {},
   "outputs": [],
   "source": [
    "def M(u: np.ndarray, d: np.ndarray) -> np.ndarray:\n",
    "\tt = np.einsum(\"abci,deif->adbecf\", u, d)\n",
    "\treturn t.reshape((t.shape[0]*t.shape[1], t.shape[2]*t.shape[3], t.shape[4], t.shape[5]))"
   ]
  },
  {
   "cell_type": "markdown",
   "metadata": {},
   "source": [
    "\n",
    "$$ M^{(n)}_{lrud} = \\sum_{\\alpha \\beta \\gamma \\epsilon} S_{\\alpha \\beta \\gamma \\epsilon} U^L_{l,\\alpha} U^R_{r,\\beta} U^U_{u,\\gamma} U^D_{d,\\epsilon} $$"
   ]
  },
  {
   "cell_type": "markdown",
   "metadata": {},
   "source": [
    "$$ \\varepsilon_1 = \\sum_{i > D} \\vert S_{i,:,:,:} \\vert^2, ~~~~ \\varepsilon_2 = \\sum_{j > D} \\vert S_{:,j,:,:} \\vert^2 $$"
   ]
  },
  {
   "cell_type": "markdown",
   "metadata": {},
   "source": [
    "$$ \\hat{U} = \\begin{cases}\n",
    "U^L, & \\varepsilon_1 < \\varepsilon_2 \\\\\n",
    "U^R, & \\text{otherwise}\n",
    "\\end{cases}\n",
    "$$"
   ]
  },
  {
   "cell_type": "markdown",
   "metadata": {},
   "source": [
    "$$ T^{(n)}_{lrud} = \\sum_{\\alpha \\beta} \\hat{U}_{l,\\alpha} M^{(n)}_{\\alpha \\beta u d} \\hat{U}_{r,\\beta} $$"
   ]
  },
  {
   "cell_type": "code",
   "execution_count": 7,
   "metadata": {},
   "outputs": [],
   "source": [
    "def one_iteration(H: np.ndarray, T: np.ndarray) -> tuple[np.ndarray, np.ndarray]:\n",
    "\t# contract with environment\n",
    "\tMt = M(T, T)\n",
    "\tMh = M(H, T)\n",
    "\n",
    "\t# decompose tensor\n",
    "\tS, Us = ten.hosvd(Mt)\n",
    "\n",
    "\teps1 = sum(np.sum(np.square(np.abs(S[i,:]))) for i in range(D.value, S.shape[0]))\n",
    "\teps2 = sum(np.sum(np.square(np.abs(S[:,j,:]))) for j in range(D.value, S.shape[1]))\n",
    "\tU = Us[0 if eps1 < eps2 else 1]\n",
    "\n",
    "\t# truncate U\n",
    "\tif U.shape[1] > D.value:\n",
    "\t\tU = U[:, 0:D.value]\n",
    "\tU = U / np.sqrt(np.max(S))\n",
    "\n",
    "\t# new T, H\n",
    "\tT = np.einsum(\"il,ijud,jr->lrud\", U, Mt, U)\n",
    "\tH = np.einsum(\"il,ijud,jr->lrud\", U, Mh, U)\n",
    "\n",
    "\treturn H, T"
   ]
  },
  {
   "cell_type": "code",
   "execution_count": 11,
   "metadata": {},
   "outputs": [
    {
     "name": "stdout",
     "output_type": "stream",
     "text": [
      "magnetization=0.0\n",
      "n=0 -> magnetization=-1.4706399156722835e-16\n",
      "n=1 -> magnetization=-2.182987775429992e-16\n",
      "n=2 -> magnetization=-2.060611900680865e-16\n",
      "n=3 -> magnetization=-6.350374545184161e-16\n",
      "n=4 -> magnetization=-2.302281489441522e-15\n",
      "n=5 -> magnetization=2.5705768583747284e-13\n",
      "n=6 -> magnetization=-1.38066901114932e-07\n",
      "n=7 -> magnetization=-3.220529773230175e-07\n",
      "n=8 -> magnetization=-1.3323747054520665e-06\n",
      "n=9 -> magnetization=-5.382177669556633e-06\n",
      "n=10 -> magnetization=-2.1439598949776006e-05\n",
      "n=11 -> magnetization=-8.548500050502416e-05\n",
      "n=12 -> magnetization=-0.0003418040201442374\n",
      "n=13 -> magnetization=-0.0013670814137613423\n",
      "n=14 -> magnetization=-0.005468102551126625\n",
      "n=15 -> magnetization=-0.021868169864091756\n",
      "n=16 -> magnetization=-0.0872213194033771\n",
      "n=17 -> magnetization=-0.3337082103108291\n",
      "n=18 -> magnetization=-0.8305550556450876\n",
      "n=19 -> magnetization=-0.9112041619905813\n",
      "n=20 -> magnetization=-0.9112126556584457\n",
      "n=21 -> magnetization=-0.9112127169289003\n",
      "n=22 -> magnetization=-0.9112127987764918\n",
      "n=23 -> magnetization=-0.9112128729479338\n",
      "n=24 -> magnetization=-0.9112129584991858\n"
     ]
    },
    {
     "data": {
      "image/svg+xml": "<?xml version=\"1.0\" encoding=\"utf-8\" standalone=\"no\"?>\n<!DOCTYPE svg PUBLIC \"-//W3C//DTD SVG 1.1//EN\"\n  \"http://www.w3.org/Graphics/SVG/1.1/DTD/svg11.dtd\">\n<svg xmlns:xlink=\"http://www.w3.org/1999/xlink\" width=\"380.482812pt\" height=\"248.518125pt\" viewBox=\"0 0 380.482812 248.518125\" xmlns=\"http://www.w3.org/2000/svg\" version=\"1.1\">\n <metadata>\n  <rdf:RDF xmlns:dc=\"http://purl.org/dc/elements/1.1/\" xmlns:cc=\"http://creativecommons.org/ns#\" xmlns:rdf=\"http://www.w3.org/1999/02/22-rdf-syntax-ns#\">\n   <cc:Work>\n    <dc:type rdf:resource=\"http://purl.org/dc/dcmitype/StillImage\"/>\n    <dc:date>2022-06-15T01:48:38.758877</dc:date>\n    <dc:format>image/svg+xml</dc:format>\n    <dc:creator>\n     <cc:Agent>\n      <dc:title>Matplotlib v3.5.2, https://matplotlib.org/</dc:title>\n     </cc:Agent>\n    </dc:creator>\n   </cc:Work>\n  </rdf:RDF>\n </metadata>\n <defs>\n  <style type=\"text/css\">*{stroke-linejoin: round; stroke-linecap: butt}</style>\n </defs>\n <g id=\"figure_1\">\n  <g id=\"patch_1\">\n   <path d=\"M -0 248.518125 \nL 380.482812 248.518125 \nL 380.482812 0 \nL -0 0 \nL -0 248.518125 \nz\n\" style=\"fill: none\"/>\n  </g>\n  <g id=\"axes_1\">\n   <g id=\"patch_2\">\n    <path d=\"M 38.482813 224.64 \nL 373.282813 224.64 \nL 373.282813 7.2 \nL 38.482813 7.2 \nz\n\" style=\"fill: #ffffff\"/>\n   </g>\n   <g id=\"matplotlib.axis_1\">\n    <g id=\"xtick_1\">\n     <g id=\"line2d_1\">\n      <defs>\n       <path id=\"me7739c0e35\" d=\"M 0 0 \nL 0 3.5 \n\" style=\"stroke: #000000; stroke-width: 0.8\"/>\n      </defs>\n      <g>\n       <use xlink:href=\"#me7739c0e35\" x=\"53.700994\" y=\"224.64\" style=\"stroke: #000000; stroke-width: 0.8\"/>\n      </g>\n     </g>\n     <g id=\"text_1\">\n      <!-- 0 -->\n      <g transform=\"translate(50.519744 239.238437)scale(0.1 -0.1)\">\n       <defs>\n        <path id=\"DejaVuSans-30\" d=\"M 2034 4250 \nQ 1547 4250 1301 3770 \nQ 1056 3291 1056 2328 \nQ 1056 1369 1301 889 \nQ 1547 409 2034 409 \nQ 2525 409 2770 889 \nQ 3016 1369 3016 2328 \nQ 3016 3291 2770 3770 \nQ 2525 4250 2034 4250 \nz\nM 2034 4750 \nQ 2819 4750 3233 4129 \nQ 3647 3509 3647 2328 \nQ 3647 1150 3233 529 \nQ 2819 -91 2034 -91 \nQ 1250 -91 836 529 \nQ 422 1150 422 2328 \nQ 422 3509 836 4129 \nQ 1250 4750 2034 4750 \nz\n\" transform=\"scale(0.015625)\"/>\n       </defs>\n       <use xlink:href=\"#DejaVuSans-30\"/>\n      </g>\n     </g>\n    </g>\n    <g id=\"xtick_2\">\n     <g id=\"line2d_2\">\n      <g>\n       <use xlink:href=\"#me7739c0e35\" x=\"114.573722\" y=\"224.64\" style=\"stroke: #000000; stroke-width: 0.8\"/>\n      </g>\n     </g>\n     <g id=\"text_2\">\n      <!-- 5 -->\n      <g transform=\"translate(111.392472 239.238437)scale(0.1 -0.1)\">\n       <defs>\n        <path id=\"DejaVuSans-35\" d=\"M 691 4666 \nL 3169 4666 \nL 3169 4134 \nL 1269 4134 \nL 1269 2991 \nQ 1406 3038 1543 3061 \nQ 1681 3084 1819 3084 \nQ 2600 3084 3056 2656 \nQ 3513 2228 3513 1497 \nQ 3513 744 3044 326 \nQ 2575 -91 1722 -91 \nQ 1428 -91 1123 -41 \nQ 819 9 494 109 \nL 494 744 \nQ 775 591 1075 516 \nQ 1375 441 1709 441 \nQ 2250 441 2565 725 \nQ 2881 1009 2881 1497 \nQ 2881 1984 2565 2268 \nQ 2250 2553 1709 2553 \nQ 1456 2553 1204 2497 \nQ 953 2441 691 2322 \nL 691 4666 \nz\n\" transform=\"scale(0.015625)\"/>\n       </defs>\n       <use xlink:href=\"#DejaVuSans-35\"/>\n      </g>\n     </g>\n    </g>\n    <g id=\"xtick_3\">\n     <g id=\"line2d_3\">\n      <g>\n       <use xlink:href=\"#me7739c0e35\" x=\"175.446449\" y=\"224.64\" style=\"stroke: #000000; stroke-width: 0.8\"/>\n      </g>\n     </g>\n     <g id=\"text_3\">\n      <!-- 10 -->\n      <g transform=\"translate(169.083949 239.238437)scale(0.1 -0.1)\">\n       <defs>\n        <path id=\"DejaVuSans-31\" d=\"M 794 531 \nL 1825 531 \nL 1825 4091 \nL 703 3866 \nL 703 4441 \nL 1819 4666 \nL 2450 4666 \nL 2450 531 \nL 3481 531 \nL 3481 0 \nL 794 0 \nL 794 531 \nz\n\" transform=\"scale(0.015625)\"/>\n       </defs>\n       <use xlink:href=\"#DejaVuSans-31\"/>\n       <use xlink:href=\"#DejaVuSans-30\" x=\"63.623047\"/>\n      </g>\n     </g>\n    </g>\n    <g id=\"xtick_4\">\n     <g id=\"line2d_4\">\n      <g>\n       <use xlink:href=\"#me7739c0e35\" x=\"236.319176\" y=\"224.64\" style=\"stroke: #000000; stroke-width: 0.8\"/>\n      </g>\n     </g>\n     <g id=\"text_4\">\n      <!-- 15 -->\n      <g transform=\"translate(229.956676 239.238437)scale(0.1 -0.1)\">\n       <use xlink:href=\"#DejaVuSans-31\"/>\n       <use xlink:href=\"#DejaVuSans-35\" x=\"63.623047\"/>\n      </g>\n     </g>\n    </g>\n    <g id=\"xtick_5\">\n     <g id=\"line2d_5\">\n      <g>\n       <use xlink:href=\"#me7739c0e35\" x=\"297.191903\" y=\"224.64\" style=\"stroke: #000000; stroke-width: 0.8\"/>\n      </g>\n     </g>\n     <g id=\"text_5\">\n      <!-- 20 -->\n      <g transform=\"translate(290.829403 239.238437)scale(0.1 -0.1)\">\n       <defs>\n        <path id=\"DejaVuSans-32\" d=\"M 1228 531 \nL 3431 531 \nL 3431 0 \nL 469 0 \nL 469 531 \nQ 828 903 1448 1529 \nQ 2069 2156 2228 2338 \nQ 2531 2678 2651 2914 \nQ 2772 3150 2772 3378 \nQ 2772 3750 2511 3984 \nQ 2250 4219 1831 4219 \nQ 1534 4219 1204 4116 \nQ 875 4013 500 3803 \nL 500 4441 \nQ 881 4594 1212 4672 \nQ 1544 4750 1819 4750 \nQ 2544 4750 2975 4387 \nQ 3406 4025 3406 3419 \nQ 3406 3131 3298 2873 \nQ 3191 2616 2906 2266 \nQ 2828 2175 2409 1742 \nQ 1991 1309 1228 531 \nz\n\" transform=\"scale(0.015625)\"/>\n       </defs>\n       <use xlink:href=\"#DejaVuSans-32\"/>\n       <use xlink:href=\"#DejaVuSans-30\" x=\"63.623047\"/>\n      </g>\n     </g>\n    </g>\n    <g id=\"xtick_6\">\n     <g id=\"line2d_6\">\n      <g>\n       <use xlink:href=\"#me7739c0e35\" x=\"358.064631\" y=\"224.64\" style=\"stroke: #000000; stroke-width: 0.8\"/>\n      </g>\n     </g>\n     <g id=\"text_6\">\n      <!-- 25 -->\n      <g transform=\"translate(351.702131 239.238437)scale(0.1 -0.1)\">\n       <use xlink:href=\"#DejaVuSans-32\"/>\n       <use xlink:href=\"#DejaVuSans-35\" x=\"63.623047\"/>\n      </g>\n     </g>\n    </g>\n   </g>\n   <g id=\"matplotlib.axis_2\">\n    <g id=\"ytick_1\">\n     <g id=\"line2d_7\">\n      <defs>\n       <path id=\"mb5ece0c055\" d=\"M 0 0 \nL -3.5 0 \n\" style=\"stroke: #000000; stroke-width: 0.8\"/>\n      </defs>\n      <g>\n       <use xlink:href=\"#mb5ece0c055\" x=\"38.482813\" y=\"190.630534\" style=\"stroke: #000000; stroke-width: 0.8\"/>\n      </g>\n     </g>\n     <g id=\"text_7\">\n      <!-- −0.8 -->\n      <g transform=\"translate(7.2 194.429753)scale(0.1 -0.1)\">\n       <defs>\n        <path id=\"DejaVuSans-2212\" d=\"M 678 2272 \nL 4684 2272 \nL 4684 1741 \nL 678 1741 \nL 678 2272 \nz\n\" transform=\"scale(0.015625)\"/>\n        <path id=\"DejaVuSans-2e\" d=\"M 684 794 \nL 1344 794 \nL 1344 0 \nL 684 0 \nL 684 794 \nz\n\" transform=\"scale(0.015625)\"/>\n        <path id=\"DejaVuSans-38\" d=\"M 2034 2216 \nQ 1584 2216 1326 1975 \nQ 1069 1734 1069 1313 \nQ 1069 891 1326 650 \nQ 1584 409 2034 409 \nQ 2484 409 2743 651 \nQ 3003 894 3003 1313 \nQ 3003 1734 2745 1975 \nQ 2488 2216 2034 2216 \nz\nM 1403 2484 \nQ 997 2584 770 2862 \nQ 544 3141 544 3541 \nQ 544 4100 942 4425 \nQ 1341 4750 2034 4750 \nQ 2731 4750 3128 4425 \nQ 3525 4100 3525 3541 \nQ 3525 3141 3298 2862 \nQ 3072 2584 2669 2484 \nQ 3125 2378 3379 2068 \nQ 3634 1759 3634 1313 \nQ 3634 634 3220 271 \nQ 2806 -91 2034 -91 \nQ 1263 -91 848 271 \nQ 434 634 434 1313 \nQ 434 1759 690 2068 \nQ 947 2378 1403 2484 \nz\nM 1172 3481 \nQ 1172 3119 1398 2916 \nQ 1625 2713 2034 2713 \nQ 2441 2713 2670 2916 \nQ 2900 3119 2900 3481 \nQ 2900 3844 2670 4047 \nQ 2441 4250 2034 4250 \nQ 1625 4250 1398 4047 \nQ 1172 3844 1172 3481 \nz\n\" transform=\"scale(0.015625)\"/>\n       </defs>\n       <use xlink:href=\"#DejaVuSans-2212\"/>\n       <use xlink:href=\"#DejaVuSans-30\" x=\"83.789062\"/>\n       <use xlink:href=\"#DejaVuSans-2e\" x=\"147.412109\"/>\n       <use xlink:href=\"#DejaVuSans-38\" x=\"179.199219\"/>\n      </g>\n     </g>\n    </g>\n    <g id=\"ytick_2\">\n     <g id=\"line2d_8\">\n      <g>\n       <use xlink:href=\"#mb5ece0c055\" x=\"38.482813\" y=\"147.243809\" style=\"stroke: #000000; stroke-width: 0.8\"/>\n      </g>\n     </g>\n     <g id=\"text_8\">\n      <!-- −0.6 -->\n      <g transform=\"translate(7.2 151.043028)scale(0.1 -0.1)\">\n       <defs>\n        <path id=\"DejaVuSans-36\" d=\"M 2113 2584 \nQ 1688 2584 1439 2293 \nQ 1191 2003 1191 1497 \nQ 1191 994 1439 701 \nQ 1688 409 2113 409 \nQ 2538 409 2786 701 \nQ 3034 994 3034 1497 \nQ 3034 2003 2786 2293 \nQ 2538 2584 2113 2584 \nz\nM 3366 4563 \nL 3366 3988 \nQ 3128 4100 2886 4159 \nQ 2644 4219 2406 4219 \nQ 1781 4219 1451 3797 \nQ 1122 3375 1075 2522 \nQ 1259 2794 1537 2939 \nQ 1816 3084 2150 3084 \nQ 2853 3084 3261 2657 \nQ 3669 2231 3669 1497 \nQ 3669 778 3244 343 \nQ 2819 -91 2113 -91 \nQ 1303 -91 875 529 \nQ 447 1150 447 2328 \nQ 447 3434 972 4092 \nQ 1497 4750 2381 4750 \nQ 2619 4750 2861 4703 \nQ 3103 4656 3366 4563 \nz\n\" transform=\"scale(0.015625)\"/>\n       </defs>\n       <use xlink:href=\"#DejaVuSans-2212\"/>\n       <use xlink:href=\"#DejaVuSans-30\" x=\"83.789062\"/>\n       <use xlink:href=\"#DejaVuSans-2e\" x=\"147.412109\"/>\n       <use xlink:href=\"#DejaVuSans-36\" x=\"179.199219\"/>\n      </g>\n     </g>\n    </g>\n    <g id=\"ytick_3\">\n     <g id=\"line2d_9\">\n      <g>\n       <use xlink:href=\"#mb5ece0c055\" x=\"38.482813\" y=\"103.857085\" style=\"stroke: #000000; stroke-width: 0.8\"/>\n      </g>\n     </g>\n     <g id=\"text_9\">\n      <!-- −0.4 -->\n      <g transform=\"translate(7.2 107.656304)scale(0.1 -0.1)\">\n       <defs>\n        <path id=\"DejaVuSans-34\" d=\"M 2419 4116 \nL 825 1625 \nL 2419 1625 \nL 2419 4116 \nz\nM 2253 4666 \nL 3047 4666 \nL 3047 1625 \nL 3713 1625 \nL 3713 1100 \nL 3047 1100 \nL 3047 0 \nL 2419 0 \nL 2419 1100 \nL 313 1100 \nL 313 1709 \nL 2253 4666 \nz\n\" transform=\"scale(0.015625)\"/>\n       </defs>\n       <use xlink:href=\"#DejaVuSans-2212\"/>\n       <use xlink:href=\"#DejaVuSans-30\" x=\"83.789062\"/>\n       <use xlink:href=\"#DejaVuSans-2e\" x=\"147.412109\"/>\n       <use xlink:href=\"#DejaVuSans-34\" x=\"179.199219\"/>\n      </g>\n     </g>\n    </g>\n    <g id=\"ytick_4\">\n     <g id=\"line2d_10\">\n      <g>\n       <use xlink:href=\"#mb5ece0c055\" x=\"38.482813\" y=\"60.470361\" style=\"stroke: #000000; stroke-width: 0.8\"/>\n      </g>\n     </g>\n     <g id=\"text_10\">\n      <!-- −0.2 -->\n      <g transform=\"translate(7.2 64.269579)scale(0.1 -0.1)\">\n       <use xlink:href=\"#DejaVuSans-2212\"/>\n       <use xlink:href=\"#DejaVuSans-30\" x=\"83.789062\"/>\n       <use xlink:href=\"#DejaVuSans-2e\" x=\"147.412109\"/>\n       <use xlink:href=\"#DejaVuSans-32\" x=\"179.199219\"/>\n      </g>\n     </g>\n    </g>\n    <g id=\"ytick_5\">\n     <g id=\"line2d_11\">\n      <g>\n       <use xlink:href=\"#mb5ece0c055\" x=\"38.482813\" y=\"17.083636\" style=\"stroke: #000000; stroke-width: 0.8\"/>\n      </g>\n     </g>\n     <g id=\"text_11\">\n      <!-- 0.0 -->\n      <g transform=\"translate(15.579688 20.882855)scale(0.1 -0.1)\">\n       <use xlink:href=\"#DejaVuSans-30\"/>\n       <use xlink:href=\"#DejaVuSans-2e\" x=\"63.623047\"/>\n       <use xlink:href=\"#DejaVuSans-30\" x=\"95.410156\"/>\n      </g>\n     </g>\n    </g>\n   </g>\n   <g id=\"line2d_12\">\n    <defs>\n     <path id=\"m6ee4214c86\" d=\"M 0 3 \nC 0.795609 3 1.55874 2.683901 2.12132 2.12132 \nC 2.683901 1.55874 3 0.795609 3 0 \nC 3 -0.795609 2.683901 -1.55874 2.12132 -2.12132 \nC 1.55874 -2.683901 0.795609 -3 0 -3 \nC -0.795609 -3 -1.55874 -2.683901 -2.12132 -2.12132 \nC -2.683901 -1.55874 -3 -0.795609 -3 0 \nC -3 0.795609 -2.683901 1.55874 -2.12132 2.12132 \nC -1.55874 2.683901 -0.795609 3 0 3 \nz\n\" style=\"stroke: #ff0000\"/>\n    </defs>\n    <g clip-path=\"url(#pe5210a6d0e)\">\n     <use xlink:href=\"#m6ee4214c86\" x=\"53.700994\" y=\"17.083636\" style=\"fill: #ff0000; stroke: #ff0000\"/>\n    </g>\n   </g>\n   <g id=\"line2d_13\">\n    <g clip-path=\"url(#pe5210a6d0e)\">\n     <use xlink:href=\"#m6ee4214c86\" x=\"65.87554\" y=\"17.083636\" style=\"fill: #ff0000; stroke: #ff0000\"/>\n    </g>\n   </g>\n   <g id=\"line2d_14\">\n    <g clip-path=\"url(#pe5210a6d0e)\">\n     <use xlink:href=\"#m6ee4214c86\" x=\"78.050085\" y=\"17.083636\" style=\"fill: #ff0000; stroke: #ff0000\"/>\n    </g>\n   </g>\n   <g id=\"line2d_15\">\n    <g clip-path=\"url(#pe5210a6d0e)\">\n     <use xlink:href=\"#m6ee4214c86\" x=\"90.224631\" y=\"17.083636\" style=\"fill: #ff0000; stroke: #ff0000\"/>\n    </g>\n   </g>\n   <g id=\"line2d_16\">\n    <g clip-path=\"url(#pe5210a6d0e)\">\n     <use xlink:href=\"#m6ee4214c86\" x=\"102.399176\" y=\"17.083636\" style=\"fill: #ff0000; stroke: #ff0000\"/>\n    </g>\n   </g>\n   <g id=\"line2d_17\">\n    <g clip-path=\"url(#pe5210a6d0e)\">\n     <use xlink:href=\"#m6ee4214c86\" x=\"114.573722\" y=\"17.083636\" style=\"fill: #ff0000; stroke: #ff0000\"/>\n    </g>\n   </g>\n   <g id=\"line2d_18\">\n    <g clip-path=\"url(#pe5210a6d0e)\">\n     <use xlink:href=\"#m6ee4214c86\" x=\"126.748267\" y=\"17.083636\" style=\"fill: #ff0000; stroke: #ff0000\"/>\n    </g>\n   </g>\n   <g id=\"line2d_19\">\n    <g clip-path=\"url(#pe5210a6d0e)\">\n     <use xlink:href=\"#m6ee4214c86\" x=\"138.922812\" y=\"17.083666\" style=\"fill: #ff0000; stroke: #ff0000\"/>\n    </g>\n   </g>\n   <g id=\"line2d_20\">\n    <g clip-path=\"url(#pe5210a6d0e)\">\n     <use xlink:href=\"#m6ee4214c86\" x=\"151.097358\" y=\"17.083706\" style=\"fill: #ff0000; stroke: #ff0000\"/>\n    </g>\n   </g>\n   <g id=\"line2d_21\">\n    <g clip-path=\"url(#pe5210a6d0e)\">\n     <use xlink:href=\"#m6ee4214c86\" x=\"163.271903\" y=\"17.083925\" style=\"fill: #ff0000; stroke: #ff0000\"/>\n    </g>\n   </g>\n   <g id=\"line2d_22\">\n    <g clip-path=\"url(#pe5210a6d0e)\">\n     <use xlink:href=\"#m6ee4214c86\" x=\"175.446449\" y=\"17.084804\" style=\"fill: #ff0000; stroke: #ff0000\"/>\n    </g>\n   </g>\n   <g id=\"line2d_23\">\n    <g clip-path=\"url(#pe5210a6d0e)\">\n     <use xlink:href=\"#m6ee4214c86\" x=\"187.620994\" y=\"17.088287\" style=\"fill: #ff0000; stroke: #ff0000\"/>\n    </g>\n   </g>\n   <g id=\"line2d_24\">\n    <g clip-path=\"url(#pe5210a6d0e)\">\n     <use xlink:href=\"#m6ee4214c86\" x=\"199.79554\" y=\"17.102181\" style=\"fill: #ff0000; stroke: #ff0000\"/>\n    </g>\n   </g>\n   <g id=\"line2d_25\">\n    <g clip-path=\"url(#pe5210a6d0e)\">\n     <use xlink:href=\"#m6ee4214c86\" x=\"211.970085\" y=\"17.157785\" style=\"fill: #ff0000; stroke: #ff0000\"/>\n    </g>\n   </g>\n   <g id=\"line2d_26\">\n    <g clip-path=\"url(#pe5210a6d0e)\">\n     <use xlink:href=\"#m6ee4214c86\" x=\"224.144631\" y=\"17.380202\" style=\"fill: #ff0000; stroke: #ff0000\"/>\n    </g>\n   </g>\n   <g id=\"line2d_27\">\n    <g clip-path=\"url(#pe5210a6d0e)\">\n     <use xlink:href=\"#m6ee4214c86\" x=\"236.319176\" y=\"18.269852\" style=\"fill: #ff0000; stroke: #ff0000\"/>\n    </g>\n   </g>\n   <g id=\"line2d_28\">\n    <g clip-path=\"url(#pe5210a6d0e)\">\n     <use xlink:href=\"#m6ee4214c86\" x=\"248.493722\" y=\"21.827578\" style=\"fill: #ff0000; stroke: #ff0000\"/>\n    </g>\n   </g>\n   <g id=\"line2d_29\">\n    <g clip-path=\"url(#pe5210a6d0e)\">\n     <use xlink:href=\"#m6ee4214c86\" x=\"260.668267\" y=\"36.004873\" style=\"fill: #ff0000; stroke: #ff0000\"/>\n    </g>\n   </g>\n   <g id=\"line2d_30\">\n    <g clip-path=\"url(#pe5210a6d0e)\">\n     <use xlink:href=\"#m6ee4214c86\" x=\"272.842812\" y=\"89.476167\" style=\"fill: #ff0000; stroke: #ff0000\"/>\n    </g>\n   </g>\n   <g id=\"line2d_31\">\n    <g clip-path=\"url(#pe5210a6d0e)\">\n     <use xlink:href=\"#m6ee4214c86\" x=\"285.017358\" y=\"197.258953\" style=\"fill: #ff0000; stroke: #ff0000\"/>\n    </g>\n   </g>\n   <g id=\"line2d_32\">\n    <g clip-path=\"url(#pe5210a6d0e)\">\n     <use xlink:href=\"#m6ee4214c86\" x=\"297.191903\" y=\"214.754455\" style=\"fill: #ff0000; stroke: #ff0000\"/>\n    </g>\n   </g>\n   <g id=\"line2d_33\">\n    <g clip-path=\"url(#pe5210a6d0e)\">\n     <use xlink:href=\"#m6ee4214c86\" x=\"309.366449\" y=\"214.756298\" style=\"fill: #ff0000; stroke: #ff0000\"/>\n    </g>\n   </g>\n   <g id=\"line2d_34\">\n    <g clip-path=\"url(#pe5210a6d0e)\">\n     <use xlink:href=\"#m6ee4214c86\" x=\"321.540994\" y=\"214.756311\" style=\"fill: #ff0000; stroke: #ff0000\"/>\n    </g>\n   </g>\n   <g id=\"line2d_35\">\n    <g clip-path=\"url(#pe5210a6d0e)\">\n     <use xlink:href=\"#m6ee4214c86\" x=\"333.71554\" y=\"214.756329\" style=\"fill: #ff0000; stroke: #ff0000\"/>\n    </g>\n   </g>\n   <g id=\"line2d_36\">\n    <g clip-path=\"url(#pe5210a6d0e)\">\n     <use xlink:href=\"#m6ee4214c86\" x=\"345.890085\" y=\"214.756345\" style=\"fill: #ff0000; stroke: #ff0000\"/>\n    </g>\n   </g>\n   <g id=\"line2d_37\">\n    <g clip-path=\"url(#pe5210a6d0e)\">\n     <use xlink:href=\"#m6ee4214c86\" x=\"358.064631\" y=\"214.756364\" style=\"fill: #ff0000; stroke: #ff0000\"/>\n    </g>\n   </g>\n   <g id=\"patch_3\">\n    <path d=\"M 38.482813 224.64 \nL 38.482813 7.2 \n\" style=\"fill: none; stroke: #000000; stroke-width: 0.8; stroke-linejoin: miter; stroke-linecap: square\"/>\n   </g>\n   <g id=\"patch_4\">\n    <path d=\"M 373.282813 224.64 \nL 373.282813 7.2 \n\" style=\"fill: none; stroke: #000000; stroke-width: 0.8; stroke-linejoin: miter; stroke-linecap: square\"/>\n   </g>\n   <g id=\"patch_5\">\n    <path d=\"M 38.482813 224.64 \nL 373.282812 224.64 \n\" style=\"fill: none; stroke: #000000; stroke-width: 0.8; stroke-linejoin: miter; stroke-linecap: square\"/>\n   </g>\n   <g id=\"patch_6\">\n    <path d=\"M 38.482813 7.2 \nL 373.282812 7.2 \n\" style=\"fill: none; stroke: #000000; stroke-width: 0.8; stroke-linejoin: miter; stroke-linecap: square\"/>\n   </g>\n  </g>\n </g>\n <defs>\n  <clipPath id=\"pe5210a6d0e\">\n   <rect x=\"38.482813\" y=\"7.2\" width=\"334.8\" height=\"217.44\"/>\n  </clipPath>\n </defs>\n</svg>\n",
      "text/plain": [
       "<Figure size 432x288 with 1 Axes>"
      ]
     },
     "metadata": {
      "needs_background": "light"
     },
     "output_type": "display_data"
    }
   ],
   "source": [
    "fig = plt.figure()\n",
    "ax = fig.subplots(1)\n",
    "\n",
    "T = ten.ising.partition_tensor(temperature.value)\n",
    "H = ten.ising.magnetization(temperature.value)\n",
    "magnetization = trace(H)/trace(T)\n",
    "\n",
    "print(f\"{magnetization=}\")\n",
    "ax.plot(0, magnetization, \"ro\")\n",
    "\n",
    "for n in range(steps.value):\n",
    "\tfor permutator in itertools.islice([(0,1,3,2), (2,3,0,1)], 4):\n",
    "\t\tH, T = one_iteration(H, T)\n",
    "\t\t# H = np.moveaxis(H, -1, 0)\n",
    "\t\t# T = np.moveaxis(T, -1, 0)\n",
    "\t\tH = H.transpose(permutator)\n",
    "\t\tT = T.transpose(permutator)\n",
    "\n",
    "\tmagnetization = trace(H)/trace(T)\n",
    "\tprint(f\"{n=} -> {magnetization=}\")\n",
    "\tax.plot(n+1, magnetization, \"ro\")"
   ]
  },
  {
   "cell_type": "code",
   "execution_count": 29,
   "metadata": {},
   "outputs": [
    {
     "name": "stdout",
     "output_type": "stream",
     "text": [
      "magnetization=0.0\n",
      "n=0\n",
      "norm(S)=11.501380920410156\n",
      "t -> eps1=0, eps2=0\n",
      "magnetization=-4.465559395702669e-17\n",
      "\n",
      "n=1\n",
      "norm(S)=2.2149479389190674\n",
      "t -> eps1=0, eps2=0\n",
      "magnetization=-1.942277415634234e-17\n",
      "\n",
      "n=2\n",
      "norm(S)=3.1615400314331055\n",
      "t -> eps1=1.2987334223331573, eps2=1.298733400223533\n",
      "magnetization=-5.5302050529112035e-17\n",
      "\n",
      "n=3\n",
      "norm(S)=5.05368709564209\n",
      "t -> eps1=10.35821004922036, eps2=10.3582099332707\n",
      "magnetization=6.532766430967852e-17\n",
      "\n",
      "n=4\n",
      "norm(S)=7.828759670257568\n",
      "t -> eps1=39.605626702308655, eps2=39.60562541335821\n",
      "magnetization=7.876220907594942e-18\n",
      "\n",
      "n=5\n",
      "norm(S)=17.304370880126953\n",
      "t -> eps1=229.35591450333595, eps2=229.35591243207455\n",
      "magnetization=5.89916933719934e-17\n",
      "\n",
      "n=6\n",
      "norm(S)=12.155716896057129\n",
      "t -> eps1=121.72645854949951, eps2=121.72645735740662\n",
      "magnetization=-1.9404878774048069e-16\n",
      "\n",
      "n=7\n",
      "norm(S)=13.121087074279785\n",
      "t -> eps1=146.3912964463234, eps2=146.39129620790482\n",
      "magnetization=-5.923821055818416e-16\n",
      "\n",
      "n=8\n",
      "norm(S)=13.443092346191406\n",
      "t -> eps1=155.1705228984356, eps2=155.17052108049393\n",
      "magnetization=-2.4619778757958447e-16\n",
      "\n",
      "n=9\n",
      "norm(S)=13.540908813476562\n",
      "t -> eps1=157.817498087883, eps2=157.81749740242958\n",
      "magnetization=-7.171616491344435e-14\n",
      "\n",
      "n=10\n",
      "norm(S)=13.569418907165527\n",
      "t -> eps1=158.59343522787094, eps2=158.5934347808361\n",
      "magnetization=-1.4200500390122499e-11\n",
      "\n",
      "n=11\n",
      "norm(S)=13.57564640045166\n",
      "t -> eps1=158.76017943024635, eps2=158.76017981767654\n",
      "magnetization=-1.383319823962557e-09\n",
      "\n",
      "n=12\n",
      "norm(S)=14.861190795898438\n",
      "t -> eps1=190.25811433792114, eps2=190.25811287760735\n",
      "magnetization=-1.9753948461452394e-06\n",
      "\n",
      "n=13\n",
      "norm(S)=13.647730827331543\n",
      "t -> eps1=160.45778068900108, eps2=160.45778059959412\n",
      "magnetization=1.6336749991299174e-07\n",
      "\n",
      "n=14\n",
      "norm(S)=13.576578140258789\n",
      "t -> eps1=158.78961798548698, eps2=158.7896182835102\n",
      "magnetization=-0.05721520232103862\n",
      "\n",
      "n=15\n",
      "norm(S)=13.534025192260742\n",
      "t -> eps1=157.63662898540497, eps2=157.63662737607956\n",
      "magnetization=-0.05721518385978009\n",
      "\n",
      "n=16\n",
      "norm(S)=13.634361267089844\n",
      "t -> eps1=159.98275488615036, eps2=159.9827554821968\n",
      "magnetization=0.11442999251888127\n",
      "\n",
      "n=17\n",
      "norm(S)=13.50539493560791\n",
      "t -> eps1=156.48235538601875, eps2=156.48235458135605\n",
      "magnetization=0.400505527895618\n",
      "\n",
      "n=18\n",
      "norm(S)=11.657783508300781\n",
      "t -> eps1=108.79032170772552, eps2=108.79032224416733\n",
      "magnetization=0.4005054636168561\n",
      "\n",
      "n=19\n",
      "norm(S)=11.936688423156738\n",
      "t -> eps1=114.0580266714096, eps2=114.058026522398\n",
      "magnetization=0.400505510748854\n",
      "\n",
      "n=20\n",
      "norm(S)=11.936678886413574\n",
      "t -> eps1=114.05784329771996, eps2=114.05784296989441\n",
      "magnetization=0.40050552947499696\n",
      "\n",
      "n=21\n",
      "norm(S)=11.936673164367676\n",
      "t -> eps1=114.05773621797562, eps2=114.05773636698723\n",
      "magnetization=0.4005055117463077\n",
      "\n",
      "n=22\n",
      "norm(S)=11.936673164367676\n",
      "t -> eps1=114.05773138999939, eps2=114.05773112177849\n",
      "magnetization=0.40050538833507043\n",
      "\n",
      "n=23\n",
      "norm(S)=11.936673164367676\n",
      "t -> eps1=114.05774027109146, eps2=114.05774003267288\n",
      "magnetization=0.4005053889216403\n",
      "\n",
      "n=24\n",
      "norm(S)=11.936667442321777\n",
      "t -> eps1=114.05761656165123, eps2=114.05761647224426\n",
      "magnetization=0.40050529243603333\n",
      "\n",
      "n=25\n",
      "norm(S)=11.936654090881348\n",
      "t -> eps1=114.05739498138428, eps2=114.05739513039589\n",
      "magnetization=0.40050511357360524\n",
      "\n",
      "n=26\n",
      "norm(S)=11.936651229858398\n",
      "t -> eps1=114.05730348825455, eps2=114.0573036968708\n",
      "magnetization=0.4005046638361535\n",
      "\n",
      "n=27\n",
      "norm(S)=11.936795234680176\n",
      "t -> eps1=114.06002432107925, eps2=114.06002417206764\n",
      "magnetization=0.40050402448553735\n",
      "\n",
      "n=28\n",
      "norm(S)=11.936580657958984\n",
      "t -> eps1=114.05585283041, eps2=114.05585297942162\n",
      "magnetization=0.4005025678505893\n",
      "\n",
      "n=29\n",
      "norm(S)=11.936491012573242\n",
      "t -> eps1=114.05402210354805, eps2=114.05402186512947\n",
      "magnetization=0.4004996441264502\n",
      "\n"
     ]
    },
    {
     "data": {
      "image/svg+xml": "<?xml version=\"1.0\" encoding=\"utf-8\" standalone=\"no\"?>\n<!DOCTYPE svg PUBLIC \"-//W3C//DTD SVG 1.1//EN\"\n  \"http://www.w3.org/Graphics/SVG/1.1/DTD/svg11.dtd\">\n<svg xmlns:xlink=\"http://www.w3.org/1999/xlink\" width=\"372.103125pt\" height=\"248.518125pt\" viewBox=\"0 0 372.103125 248.518125\" xmlns=\"http://www.w3.org/2000/svg\" version=\"1.1\">\n <metadata>\n  <rdf:RDF xmlns:dc=\"http://purl.org/dc/elements/1.1/\" xmlns:cc=\"http://creativecommons.org/ns#\" xmlns:rdf=\"http://www.w3.org/1999/02/22-rdf-syntax-ns#\">\n   <cc:Work>\n    <dc:type rdf:resource=\"http://purl.org/dc/dcmitype/StillImage\"/>\n    <dc:date>2022-06-14T17:12:30.471434</dc:date>\n    <dc:format>image/svg+xml</dc:format>\n    <dc:creator>\n     <cc:Agent>\n      <dc:title>Matplotlib v3.5.2, https://matplotlib.org/</dc:title>\n     </cc:Agent>\n    </dc:creator>\n   </cc:Work>\n  </rdf:RDF>\n </metadata>\n <defs>\n  <style type=\"text/css\">*{stroke-linejoin: round; stroke-linecap: butt}</style>\n </defs>\n <g id=\"figure_1\">\n  <g id=\"patch_1\">\n   <path d=\"M 0 248.518125 \nL 372.103125 248.518125 \nL 372.103125 0 \nL 0 0 \nL 0 248.518125 \nz\n\" style=\"fill: none\"/>\n  </g>\n  <g id=\"axes_1\">\n   <g id=\"patch_2\">\n    <path d=\"M 30.103125 224.64 \nL 364.903125 224.64 \nL 364.903125 7.2 \nL 30.103125 7.2 \nz\n\" style=\"fill: #ffffff\"/>\n   </g>\n   <g id=\"matplotlib.axis_1\">\n    <g id=\"xtick_1\">\n     <g id=\"line2d_1\">\n      <defs>\n       <path id=\"m723b8f8c70\" d=\"M 0 0 \nL 0 3.5 \n\" style=\"stroke: #000000; stroke-width: 0.8\"/>\n      </defs>\n      <g>\n       <use xlink:href=\"#m723b8f8c70\" x=\"45.321307\" y=\"224.64\" style=\"stroke: #000000; stroke-width: 0.8\"/>\n      </g>\n     </g>\n     <g id=\"text_1\">\n      <!-- 0 -->\n      <g transform=\"translate(42.140057 239.238437)scale(0.1 -0.1)\">\n       <defs>\n        <path id=\"DejaVuSans-30\" d=\"M 2034 4250 \nQ 1547 4250 1301 3770 \nQ 1056 3291 1056 2328 \nQ 1056 1369 1301 889 \nQ 1547 409 2034 409 \nQ 2525 409 2770 889 \nQ 3016 1369 3016 2328 \nQ 3016 3291 2770 3770 \nQ 2525 4250 2034 4250 \nz\nM 2034 4750 \nQ 2819 4750 3233 4129 \nQ 3647 3509 3647 2328 \nQ 3647 1150 3233 529 \nQ 2819 -91 2034 -91 \nQ 1250 -91 836 529 \nQ 422 1150 422 2328 \nQ 422 3509 836 4129 \nQ 1250 4750 2034 4750 \nz\n\" transform=\"scale(0.015625)\"/>\n       </defs>\n       <use xlink:href=\"#DejaVuSans-30\"/>\n      </g>\n     </g>\n    </g>\n    <g id=\"xtick_2\">\n     <g id=\"line2d_2\">\n      <g>\n       <use xlink:href=\"#m723b8f8c70\" x=\"96.04858\" y=\"224.64\" style=\"stroke: #000000; stroke-width: 0.8\"/>\n      </g>\n     </g>\n     <g id=\"text_2\">\n      <!-- 5 -->\n      <g transform=\"translate(92.86733 239.238437)scale(0.1 -0.1)\">\n       <defs>\n        <path id=\"DejaVuSans-35\" d=\"M 691 4666 \nL 3169 4666 \nL 3169 4134 \nL 1269 4134 \nL 1269 2991 \nQ 1406 3038 1543 3061 \nQ 1681 3084 1819 3084 \nQ 2600 3084 3056 2656 \nQ 3513 2228 3513 1497 \nQ 3513 744 3044 326 \nQ 2575 -91 1722 -91 \nQ 1428 -91 1123 -41 \nQ 819 9 494 109 \nL 494 744 \nQ 775 591 1075 516 \nQ 1375 441 1709 441 \nQ 2250 441 2565 725 \nQ 2881 1009 2881 1497 \nQ 2881 1984 2565 2268 \nQ 2250 2553 1709 2553 \nQ 1456 2553 1204 2497 \nQ 953 2441 691 2322 \nL 691 4666 \nz\n\" transform=\"scale(0.015625)\"/>\n       </defs>\n       <use xlink:href=\"#DejaVuSans-35\"/>\n      </g>\n     </g>\n    </g>\n    <g id=\"xtick_3\">\n     <g id=\"line2d_3\">\n      <g>\n       <use xlink:href=\"#m723b8f8c70\" x=\"146.775852\" y=\"224.64\" style=\"stroke: #000000; stroke-width: 0.8\"/>\n      </g>\n     </g>\n     <g id=\"text_3\">\n      <!-- 10 -->\n      <g transform=\"translate(140.413352 239.238437)scale(0.1 -0.1)\">\n       <defs>\n        <path id=\"DejaVuSans-31\" d=\"M 794 531 \nL 1825 531 \nL 1825 4091 \nL 703 3866 \nL 703 4441 \nL 1819 4666 \nL 2450 4666 \nL 2450 531 \nL 3481 531 \nL 3481 0 \nL 794 0 \nL 794 531 \nz\n\" transform=\"scale(0.015625)\"/>\n       </defs>\n       <use xlink:href=\"#DejaVuSans-31\"/>\n       <use xlink:href=\"#DejaVuSans-30\" x=\"63.623047\"/>\n      </g>\n     </g>\n    </g>\n    <g id=\"xtick_4\">\n     <g id=\"line2d_4\">\n      <g>\n       <use xlink:href=\"#m723b8f8c70\" x=\"197.503125\" y=\"224.64\" style=\"stroke: #000000; stroke-width: 0.8\"/>\n      </g>\n     </g>\n     <g id=\"text_4\">\n      <!-- 15 -->\n      <g transform=\"translate(191.140625 239.238437)scale(0.1 -0.1)\">\n       <use xlink:href=\"#DejaVuSans-31\"/>\n       <use xlink:href=\"#DejaVuSans-35\" x=\"63.623047\"/>\n      </g>\n     </g>\n    </g>\n    <g id=\"xtick_5\">\n     <g id=\"line2d_5\">\n      <g>\n       <use xlink:href=\"#m723b8f8c70\" x=\"248.230398\" y=\"224.64\" style=\"stroke: #000000; stroke-width: 0.8\"/>\n      </g>\n     </g>\n     <g id=\"text_5\">\n      <!-- 20 -->\n      <g transform=\"translate(241.867898 239.238437)scale(0.1 -0.1)\">\n       <defs>\n        <path id=\"DejaVuSans-32\" d=\"M 1228 531 \nL 3431 531 \nL 3431 0 \nL 469 0 \nL 469 531 \nQ 828 903 1448 1529 \nQ 2069 2156 2228 2338 \nQ 2531 2678 2651 2914 \nQ 2772 3150 2772 3378 \nQ 2772 3750 2511 3984 \nQ 2250 4219 1831 4219 \nQ 1534 4219 1204 4116 \nQ 875 4013 500 3803 \nL 500 4441 \nQ 881 4594 1212 4672 \nQ 1544 4750 1819 4750 \nQ 2544 4750 2975 4387 \nQ 3406 4025 3406 3419 \nQ 3406 3131 3298 2873 \nQ 3191 2616 2906 2266 \nQ 2828 2175 2409 1742 \nQ 1991 1309 1228 531 \nz\n\" transform=\"scale(0.015625)\"/>\n       </defs>\n       <use xlink:href=\"#DejaVuSans-32\"/>\n       <use xlink:href=\"#DejaVuSans-30\" x=\"63.623047\"/>\n      </g>\n     </g>\n    </g>\n    <g id=\"xtick_6\">\n     <g id=\"line2d_6\">\n      <g>\n       <use xlink:href=\"#m723b8f8c70\" x=\"298.95767\" y=\"224.64\" style=\"stroke: #000000; stroke-width: 0.8\"/>\n      </g>\n     </g>\n     <g id=\"text_6\">\n      <!-- 25 -->\n      <g transform=\"translate(292.59517 239.238437)scale(0.1 -0.1)\">\n       <use xlink:href=\"#DejaVuSans-32\"/>\n       <use xlink:href=\"#DejaVuSans-35\" x=\"63.623047\"/>\n      </g>\n     </g>\n    </g>\n    <g id=\"xtick_7\">\n     <g id=\"line2d_7\">\n      <g>\n       <use xlink:href=\"#m723b8f8c70\" x=\"349.684943\" y=\"224.64\" style=\"stroke: #000000; stroke-width: 0.8\"/>\n      </g>\n     </g>\n     <g id=\"text_7\">\n      <!-- 30 -->\n      <g transform=\"translate(343.322443 239.238437)scale(0.1 -0.1)\">\n       <defs>\n        <path id=\"DejaVuSans-33\" d=\"M 2597 2516 \nQ 3050 2419 3304 2112 \nQ 3559 1806 3559 1356 \nQ 3559 666 3084 287 \nQ 2609 -91 1734 -91 \nQ 1441 -91 1130 -33 \nQ 819 25 488 141 \nL 488 750 \nQ 750 597 1062 519 \nQ 1375 441 1716 441 \nQ 2309 441 2620 675 \nQ 2931 909 2931 1356 \nQ 2931 1769 2642 2001 \nQ 2353 2234 1838 2234 \nL 1294 2234 \nL 1294 2753 \nL 1863 2753 \nQ 2328 2753 2575 2939 \nQ 2822 3125 2822 3475 \nQ 2822 3834 2567 4026 \nQ 2313 4219 1838 4219 \nQ 1578 4219 1281 4162 \nQ 984 4106 628 3988 \nL 628 4550 \nQ 988 4650 1302 4700 \nQ 1616 4750 1894 4750 \nQ 2613 4750 3031 4423 \nQ 3450 4097 3450 3541 \nQ 3450 3153 3228 2886 \nQ 3006 2619 2597 2516 \nz\n\" transform=\"scale(0.015625)\"/>\n       </defs>\n       <use xlink:href=\"#DejaVuSans-33\"/>\n       <use xlink:href=\"#DejaVuSans-30\" x=\"63.623047\"/>\n      </g>\n     </g>\n    </g>\n   </g>\n   <g id=\"matplotlib.axis_2\">\n    <g id=\"ytick_1\">\n     <g id=\"line2d_8\">\n      <defs>\n       <path id=\"m8a3fc268c5\" d=\"M 0 0 \nL -3.5 0 \n\" style=\"stroke: #000000; stroke-width: 0.8\"/>\n      </defs>\n      <g>\n       <use xlink:href=\"#m8a3fc268c5\" x=\"30.103125\" y=\"190.047225\" style=\"stroke: #000000; stroke-width: 0.8\"/>\n      </g>\n     </g>\n     <g id=\"text_8\">\n      <!-- 0.0 -->\n      <g transform=\"translate(7.2 193.846444)scale(0.1 -0.1)\">\n       <defs>\n        <path id=\"DejaVuSans-2e\" d=\"M 684 794 \nL 1344 794 \nL 1344 0 \nL 684 0 \nL 684 794 \nz\n\" transform=\"scale(0.015625)\"/>\n       </defs>\n       <use xlink:href=\"#DejaVuSans-30\"/>\n       <use xlink:href=\"#DejaVuSans-2e\" x=\"63.623047\"/>\n       <use xlink:href=\"#DejaVuSans-30\" x=\"95.410156\"/>\n      </g>\n     </g>\n    </g>\n    <g id=\"ytick_2\">\n     <g id=\"line2d_9\">\n      <g>\n       <use xlink:href=\"#m8a3fc268c5\" x=\"30.103125\" y=\"146.860908\" style=\"stroke: #000000; stroke-width: 0.8\"/>\n      </g>\n     </g>\n     <g id=\"text_9\">\n      <!-- 0.1 -->\n      <g transform=\"translate(7.2 150.660126)scale(0.1 -0.1)\">\n       <use xlink:href=\"#DejaVuSans-30\"/>\n       <use xlink:href=\"#DejaVuSans-2e\" x=\"63.623047\"/>\n       <use xlink:href=\"#DejaVuSans-31\" x=\"95.410156\"/>\n      </g>\n     </g>\n    </g>\n    <g id=\"ytick_3\">\n     <g id=\"line2d_10\">\n      <g>\n       <use xlink:href=\"#m8a3fc268c5\" x=\"30.103125\" y=\"103.67459\" style=\"stroke: #000000; stroke-width: 0.8\"/>\n      </g>\n     </g>\n     <g id=\"text_10\">\n      <!-- 0.2 -->\n      <g transform=\"translate(7.2 107.473809)scale(0.1 -0.1)\">\n       <use xlink:href=\"#DejaVuSans-30\"/>\n       <use xlink:href=\"#DejaVuSans-2e\" x=\"63.623047\"/>\n       <use xlink:href=\"#DejaVuSans-32\" x=\"95.410156\"/>\n      </g>\n     </g>\n    </g>\n    <g id=\"ytick_4\">\n     <g id=\"line2d_11\">\n      <g>\n       <use xlink:href=\"#m8a3fc268c5\" x=\"30.103125\" y=\"60.488273\" style=\"stroke: #000000; stroke-width: 0.8\"/>\n      </g>\n     </g>\n     <g id=\"text_11\">\n      <!-- 0.3 -->\n      <g transform=\"translate(7.2 64.287492)scale(0.1 -0.1)\">\n       <use xlink:href=\"#DejaVuSans-30\"/>\n       <use xlink:href=\"#DejaVuSans-2e\" x=\"63.623047\"/>\n       <use xlink:href=\"#DejaVuSans-33\" x=\"95.410156\"/>\n      </g>\n     </g>\n    </g>\n    <g id=\"ytick_5\">\n     <g id=\"line2d_12\">\n      <g>\n       <use xlink:href=\"#m8a3fc268c5\" x=\"30.103125\" y=\"17.301956\" style=\"stroke: #000000; stroke-width: 0.8\"/>\n      </g>\n     </g>\n     <g id=\"text_12\">\n      <!-- 0.4 -->\n      <g transform=\"translate(7.2 21.101175)scale(0.1 -0.1)\">\n       <defs>\n        <path id=\"DejaVuSans-34\" d=\"M 2419 4116 \nL 825 1625 \nL 2419 1625 \nL 2419 4116 \nz\nM 2253 4666 \nL 3047 4666 \nL 3047 1625 \nL 3713 1625 \nL 3713 1100 \nL 3047 1100 \nL 3047 0 \nL 2419 0 \nL 2419 1100 \nL 313 1100 \nL 313 1709 \nL 2253 4666 \nz\n\" transform=\"scale(0.015625)\"/>\n       </defs>\n       <use xlink:href=\"#DejaVuSans-30\"/>\n       <use xlink:href=\"#DejaVuSans-2e\" x=\"63.623047\"/>\n       <use xlink:href=\"#DejaVuSans-34\" x=\"95.410156\"/>\n      </g>\n     </g>\n    </g>\n   </g>\n   <g id=\"line2d_13\">\n    <defs>\n     <path id=\"m095da598d4\" d=\"M 0 3 \nC 0.795609 3 1.55874 2.683901 2.12132 2.12132 \nC 2.683901 1.55874 3 0.795609 3 0 \nC 3 -0.795609 2.683901 -1.55874 2.12132 -2.12132 \nC 1.55874 -2.683901 0.795609 -3 0 -3 \nC -0.795609 -3 -1.55874 -2.683901 -2.12132 -2.12132 \nC -2.683901 -1.55874 -3 -0.795609 -3 0 \nC -3 0.795609 -2.683901 1.55874 -2.12132 2.12132 \nC -1.55874 2.683901 -0.795609 3 0 3 \nz\n\" style=\"stroke: #ff0000\"/>\n    </defs>\n    <g clip-path=\"url(#p8e12ea1182)\">\n     <use xlink:href=\"#m095da598d4\" x=\"45.321307\" y=\"190.047225\" style=\"fill: #ff0000; stroke: #ff0000\"/>\n    </g>\n   </g>\n   <g id=\"line2d_14\">\n    <g clip-path=\"url(#p8e12ea1182)\">\n     <use xlink:href=\"#m095da598d4\" x=\"55.466761\" y=\"190.047225\" style=\"fill: #ff0000; stroke: #ff0000\"/>\n    </g>\n   </g>\n   <g id=\"line2d_15\">\n    <g clip-path=\"url(#p8e12ea1182)\">\n     <use xlink:href=\"#m095da598d4\" x=\"65.612216\" y=\"190.047225\" style=\"fill: #ff0000; stroke: #ff0000\"/>\n    </g>\n   </g>\n   <g id=\"line2d_16\">\n    <g clip-path=\"url(#p8e12ea1182)\">\n     <use xlink:href=\"#m095da598d4\" x=\"75.75767\" y=\"190.047225\" style=\"fill: #ff0000; stroke: #ff0000\"/>\n    </g>\n   </g>\n   <g id=\"line2d_17\">\n    <g clip-path=\"url(#p8e12ea1182)\">\n     <use xlink:href=\"#m095da598d4\" x=\"85.903125\" y=\"190.047225\" style=\"fill: #ff0000; stroke: #ff0000\"/>\n    </g>\n   </g>\n   <g id=\"line2d_18\">\n    <g clip-path=\"url(#p8e12ea1182)\">\n     <use xlink:href=\"#m095da598d4\" x=\"96.04858\" y=\"190.047225\" style=\"fill: #ff0000; stroke: #ff0000\"/>\n    </g>\n   </g>\n   <g id=\"line2d_19\">\n    <g clip-path=\"url(#p8e12ea1182)\">\n     <use xlink:href=\"#m095da598d4\" x=\"106.194034\" y=\"190.047225\" style=\"fill: #ff0000; stroke: #ff0000\"/>\n    </g>\n   </g>\n   <g id=\"line2d_20\">\n    <g clip-path=\"url(#p8e12ea1182)\">\n     <use xlink:href=\"#m095da598d4\" x=\"116.339489\" y=\"190.047225\" style=\"fill: #ff0000; stroke: #ff0000\"/>\n    </g>\n   </g>\n   <g id=\"line2d_21\">\n    <g clip-path=\"url(#p8e12ea1182)\">\n     <use xlink:href=\"#m095da598d4\" x=\"126.484943\" y=\"190.047225\" style=\"fill: #ff0000; stroke: #ff0000\"/>\n    </g>\n   </g>\n   <g id=\"line2d_22\">\n    <g clip-path=\"url(#p8e12ea1182)\">\n     <use xlink:href=\"#m095da598d4\" x=\"136.630398\" y=\"190.047225\" style=\"fill: #ff0000; stroke: #ff0000\"/>\n    </g>\n   </g>\n   <g id=\"line2d_23\">\n    <g clip-path=\"url(#p8e12ea1182)\">\n     <use xlink:href=\"#m095da598d4\" x=\"146.775852\" y=\"190.047225\" style=\"fill: #ff0000; stroke: #ff0000\"/>\n    </g>\n   </g>\n   <g id=\"line2d_24\">\n    <g clip-path=\"url(#p8e12ea1182)\">\n     <use xlink:href=\"#m095da598d4\" x=\"156.921307\" y=\"190.047225\" style=\"fill: #ff0000; stroke: #ff0000\"/>\n    </g>\n   </g>\n   <g id=\"line2d_25\">\n    <g clip-path=\"url(#p8e12ea1182)\">\n     <use xlink:href=\"#m095da598d4\" x=\"167.066761\" y=\"190.047225\" style=\"fill: #ff0000; stroke: #ff0000\"/>\n    </g>\n   </g>\n   <g id=\"line2d_26\">\n    <g clip-path=\"url(#p8e12ea1182)\">\n     <use xlink:href=\"#m095da598d4\" x=\"177.212216\" y=\"190.048078\" style=\"fill: #ff0000; stroke: #ff0000\"/>\n    </g>\n   </g>\n   <g id=\"line2d_27\">\n    <g clip-path=\"url(#p8e12ea1182)\">\n     <use xlink:href=\"#m095da598d4\" x=\"187.35767\" y=\"190.047154\" style=\"fill: #ff0000; stroke: #ff0000\"/>\n    </g>\n   </g>\n   <g id=\"line2d_28\">\n    <g clip-path=\"url(#p8e12ea1182)\">\n     <use xlink:href=\"#m095da598d4\" x=\"197.503125\" y=\"214.756364\" style=\"fill: #ff0000; stroke: #ff0000\"/>\n    </g>\n   </g>\n   <g id=\"line2d_29\">\n    <g clip-path=\"url(#p8e12ea1182)\">\n     <use xlink:href=\"#m095da598d4\" x=\"207.64858\" y=\"214.756356\" style=\"fill: #ff0000; stroke: #ff0000\"/>\n    </g>\n   </g>\n   <g id=\"line2d_30\">\n    <g clip-path=\"url(#p8e12ea1182)\">\n     <use xlink:href=\"#m095da598d4\" x=\"217.794034\" y=\"140.629125\" style=\"fill: #ff0000; stroke: #ff0000\"/>\n    </g>\n   </g>\n   <g id=\"line2d_31\">\n    <g clip-path=\"url(#p8e12ea1182)\">\n     <use xlink:href=\"#m095da598d4\" x=\"227.939489\" y=\"17.083637\" style=\"fill: #ff0000; stroke: #ff0000\"/>\n    </g>\n   </g>\n   <g id=\"line2d_32\">\n    <g clip-path=\"url(#p8e12ea1182)\">\n     <use xlink:href=\"#m095da598d4\" x=\"238.084943\" y=\"17.083665\" style=\"fill: #ff0000; stroke: #ff0000\"/>\n    </g>\n   </g>\n   <g id=\"line2d_33\">\n    <g clip-path=\"url(#p8e12ea1182)\">\n     <use xlink:href=\"#m095da598d4\" x=\"248.230398\" y=\"17.083644\" style=\"fill: #ff0000; stroke: #ff0000\"/>\n    </g>\n   </g>\n   <g id=\"line2d_34\">\n    <g clip-path=\"url(#p8e12ea1182)\">\n     <use xlink:href=\"#m095da598d4\" x=\"258.375852\" y=\"17.083636\" style=\"fill: #ff0000; stroke: #ff0000\"/>\n    </g>\n   </g>\n   <g id=\"line2d_35\">\n    <g clip-path=\"url(#p8e12ea1182)\">\n     <use xlink:href=\"#m095da598d4\" x=\"268.521307\" y=\"17.083644\" style=\"fill: #ff0000; stroke: #ff0000\"/>\n    </g>\n   </g>\n   <g id=\"line2d_36\">\n    <g clip-path=\"url(#p8e12ea1182)\">\n     <use xlink:href=\"#m095da598d4\" x=\"278.666761\" y=\"17.083697\" style=\"fill: #ff0000; stroke: #ff0000\"/>\n    </g>\n   </g>\n   <g id=\"line2d_37\">\n    <g clip-path=\"url(#p8e12ea1182)\">\n     <use xlink:href=\"#m095da598d4\" x=\"288.812216\" y=\"17.083697\" style=\"fill: #ff0000; stroke: #ff0000\"/>\n    </g>\n   </g>\n   <g id=\"line2d_38\">\n    <g clip-path=\"url(#p8e12ea1182)\">\n     <use xlink:href=\"#m095da598d4\" x=\"298.95767\" y=\"17.083739\" style=\"fill: #ff0000; stroke: #ff0000\"/>\n    </g>\n   </g>\n   <g id=\"line2d_39\">\n    <g clip-path=\"url(#p8e12ea1182)\">\n     <use xlink:href=\"#m095da598d4\" x=\"309.103125\" y=\"17.083816\" style=\"fill: #ff0000; stroke: #ff0000\"/>\n    </g>\n   </g>\n   <g id=\"line2d_40\">\n    <g clip-path=\"url(#p8e12ea1182)\">\n     <use xlink:href=\"#m095da598d4\" x=\"319.24858\" y=\"17.08401\" style=\"fill: #ff0000; stroke: #ff0000\"/>\n    </g>\n   </g>\n   <g id=\"line2d_41\">\n    <g clip-path=\"url(#p8e12ea1182)\">\n     <use xlink:href=\"#m095da598d4\" x=\"329.394034\" y=\"17.084286\" style=\"fill: #ff0000; stroke: #ff0000\"/>\n    </g>\n   </g>\n   <g id=\"line2d_42\">\n    <g clip-path=\"url(#p8e12ea1182)\">\n     <use xlink:href=\"#m095da598d4\" x=\"339.539489\" y=\"17.084915\" style=\"fill: #ff0000; stroke: #ff0000\"/>\n    </g>\n   </g>\n   <g id=\"line2d_43\">\n    <g clip-path=\"url(#p8e12ea1182)\">\n     <use xlink:href=\"#m095da598d4\" x=\"349.684943\" y=\"17.086178\" style=\"fill: #ff0000; stroke: #ff0000\"/>\n    </g>\n   </g>\n   <g id=\"patch_3\">\n    <path d=\"M 30.103125 224.64 \nL 30.103125 7.2 \n\" style=\"fill: none; stroke: #000000; stroke-width: 0.8; stroke-linejoin: miter; stroke-linecap: square\"/>\n   </g>\n   <g id=\"patch_4\">\n    <path d=\"M 364.903125 224.64 \nL 364.903125 7.2 \n\" style=\"fill: none; stroke: #000000; stroke-width: 0.8; stroke-linejoin: miter; stroke-linecap: square\"/>\n   </g>\n   <g id=\"patch_5\">\n    <path d=\"M 30.103125 224.64 \nL 364.903125 224.64 \n\" style=\"fill: none; stroke: #000000; stroke-width: 0.8; stroke-linejoin: miter; stroke-linecap: square\"/>\n   </g>\n   <g id=\"patch_6\">\n    <path d=\"M 30.103125 7.2 \nL 364.903125 7.2 \n\" style=\"fill: none; stroke: #000000; stroke-width: 0.8; stroke-linejoin: miter; stroke-linecap: square\"/>\n   </g>\n  </g>\n </g>\n <defs>\n  <clipPath id=\"p8e12ea1182\">\n   <rect x=\"30.103125\" y=\"7.2\" width=\"334.8\" height=\"217.44\"/>\n  </clipPath>\n </defs>\n</svg>\n",
      "text/plain": [
       "<Figure size 432x288 with 1 Axes>"
      ]
     },
     "metadata": {
      "needs_background": "light"
     },
     "output_type": "display_data"
    }
   ],
   "source": [
    "fig = plt.figure()\n",
    "ax = fig.subplots(1)\n",
    "\n",
    "T = ten.ising.partition_tensor(temperature.value)\n",
    "H = ten.ising.magnetization(temperature.value)\n",
    "magnetization = trace(H)/trace(T)\n",
    "\n",
    "print(f\"{magnetization=}\")\n",
    "ax.plot(0, magnetization, \"ro\")\n",
    "\n",
    "for n in range(steps.value):\n",
    "\tprint(f\"{n=}\")\n",
    "\n",
    "\t# contract with environment\n",
    "\tMt = M(T, T)\n",
    "\tMh = M(H, T)\n",
    "\n",
    "\t# decompose tensor\n",
    "\tS, Us = ten.hosvd(Mt)\n",
    "\n",
    "\teps1 = sum(np.sum(np.square(np.abs(S[i,:]))) for i in range(D.value, S.shape[0]))\n",
    "\teps2 = sum(np.sum(np.square(np.abs(S[:,j,:]))) for j in range(D.value, S.shape[1]))\n",
    "\tprint(f\"t -> {eps1=}, {eps2=}\")\n",
    "\tU = Us[0 if eps1 < eps2 else 1]\n",
    "\n",
    "\t# truncate U\n",
    "\tif U.shape[1] > D.value:\n",
    "\t\tU = U[:, 0:D.value]\n",
    "\tU = U / np.sqrt(np.max(S)) # np.sqrt(np.linalg.norm(S))\n",
    "\n",
    "\t# new T, H\n",
    "\tT = np.einsum(\"il,ijud,jr->lrud\", U, Mt, U)\n",
    "\tH = np.einsum(\"il,ijud,jr->lrud\", U, Mh, U)\n",
    "\n",
    "\tmagnetization = trace(H)/trace(T)\n",
    "\n",
    "\tprint(f\"{magnetization=}\")\n",
    "\tax.plot(n+1, magnetization, \"ro\")\n",
    "\n",
    "\tprint()"
   ]
  },
  {
   "cell_type": "code",
   "execution_count": null,
   "metadata": {},
   "outputs": [],
   "source": []
  }
 ],
 "metadata": {
  "kernelspec": {
   "display_name": "Python 3.10.3 ('.venv': venv)",
   "language": "python",
   "name": "python3"
  },
  "language_info": {
   "codemirror_mode": {
    "name": "ipython",
    "version": 3
   },
   "file_extension": ".py",
   "mimetype": "text/x-python",
   "name": "python",
   "nbconvert_exporter": "python",
   "pygments_lexer": "ipython3",
   "version": "3.10.3"
  },
  "orig_nbformat": 4,
  "vscode": {
   "interpreter": {
    "hash": "93be7eb3aaab85e4e95bde50302f0b1223cdac09f8304d5f79ec6540da0087b7"
   }
  }
 },
 "nbformat": 4,
 "nbformat_minor": 2
}
