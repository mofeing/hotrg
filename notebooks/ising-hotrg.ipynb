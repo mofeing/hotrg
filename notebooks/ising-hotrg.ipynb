{
 "cells": [
  {
   "cell_type": "markdown",
   "metadata": {},
   "source": [
    "# Higher-order Tensor Renormalization Group for 2D Ising model"
   ]
  },
  {
   "cell_type": "code",
   "execution_count": 1,
   "metadata": {},
   "outputs": [],
   "source": [
    "import numpy as np\n",
    "from numpy.typing import ArrayLike\n",
    "import hotrg\n",
    "import ipywidgets as widgets\n",
    "import matplotlib.pyplot as plt\n",
    "%config InlineBackend.figure_formats = [\"svg\"]\n",
    "import itertools\n",
    "from tqdm.auto import tqdm\n",
    "import cProfile\n",
    "import opt_einsum as oe"
   ]
  },
  {
   "cell_type": "markdown",
   "metadata": {},
   "source": [
    "The average **magnetization** $\\braket{m}$ of a statistical system can be computed as,\n",
    "\n",
    "$$ \\langle\\text{Magnetization}\\rangle = \\frac{\\text{Tr}(H)}{Z} $$"
   ]
  },
  {
   "cell_type": "markdown",
   "metadata": {},
   "source": [
    "The **partition function** $Z$ can be described as a translation-invariant tensor network contraction.\n",
    "\n",
    "$$ Z = \\sum_{i} e^{- \\beta E_i} = \\text{Tr} \\prod_i T_{l_i r_i u_i d_i}(\\beta) $$"
   ]
  },
  {
   "cell_type": "markdown",
   "metadata": {},
   "source": [
    "where\n",
    "\n",
    "$$\n",
    "W = \\begin{pmatrix}\n",
    "\\sqrt{\\cosh(1/t)} & \\sqrt{\\sinh(1/t)} \\\\\n",
    "\\sqrt{\\cosh(1/t)} & -\\sqrt{\\sinh(1/t)}\n",
    "\\end{pmatrix}\n",
    "$$\n",
    "\n",
    "$$\n",
    "T_{lrud} = \\sum_\\alpha W_{\\alpha,l} W_{\\alpha,r} W_{\\alpha,u} W_{\\alpha,d}\n",
    "$$"
   ]
  },
  {
   "cell_type": "markdown",
   "metadata": {},
   "source": [
    "The $H$ tensor has a similar definition to $T$.\n",
    "$$ H^{(0)}_{lrud} = \\sum_\\alpha W_{\\alpha,l} ~ W_{\\alpha,r} ~ W_{\\alpha,u} ~ W_{\\alpha,d} ~ m_\\alpha ~~~~ \\text{where} ~~~~ m_\\alpha = \\begin{pmatrix} 1 \\\\ -1 \\end{pmatrix} $$"
   ]
  },
  {
   "cell_type": "markdown",
   "metadata": {},
   "source": [
    "## Procedure\n",
    "\n",
    "1. Contract $T$ with the tensor below and reshape to a 4-order tensor $M$.\n",
    "\n",
    "$$ M^{(n)}_{lrud} = \\sum_\\alpha T^{(n-1)}_{l_1 r_1 u \\alpha} T^{(n-1)}_{l_2 r_2 \\alpha d} ~~~~ \\text{where} ~~~~ l = l_1 \\otimes l_2, ~~ r = r_1 \\otimes r_2 $$"
   ]
  },
  {
   "cell_type": "code",
   "execution_count": 2,
   "metadata": {},
   "outputs": [],
   "source": [
    "def contract_tensors(top: np.ndarray, bottom: np.ndarray, backend=\"numpy\") -> np.ndarray:\n",
    "\tm = oe.contract(\"abci,deif->adbecf\", top, bottom, backend=backend)\n",
    "\treturn m.reshape((m.shape[0]*m.shape[1], m.shape[2]*m.shape[3], m.shape[4], m.shape[5]))"
   ]
  },
  {
   "cell_type": "markdown",
   "metadata": {},
   "source": [
    "\n",
    "2. Perform the HOSVD on $M$.\n",
    "\n",
    "$$ M^{(n)}_{lrud} = \\sum_{\\alpha \\beta \\gamma \\epsilon} S_{\\alpha \\beta \\gamma \\epsilon} U^L_{l,\\alpha} U^R_{r,\\beta} U^U_{u,\\gamma} U^D_{d,\\epsilon} $$"
   ]
  },
  {
   "cell_type": "code",
   "execution_count": 3,
   "metadata": {},
   "outputs": [],
   "source": [
    "def hosvd_sides(A: ArrayLike) -> tuple[ArrayLike, list[ArrayLike]]:\n",
    "    \"\"\"Higher-order singular value decomposition (HOSVD)\n",
    "\n",
    "    parameters\n",
    "    ----------\n",
    "    - A. ArrayLike\n",
    "\n",
    "    returns\n",
    "    -------\n",
    "    - S. ArrayLike\n",
    "    - U. Sequence[ArrayLike]\n",
    "    \"\"\"\n",
    "\n",
    "    # left SVD\n",
    "    Ak = A.reshape((A.shape[0], -1))\n",
    "    Ul, S, Vh = np.linalg.svd(Ak, full_matrices=False, compute_uv=True, hermitian=False)\n",
    "    \n",
    "    Ak = np.atleast_2d(S).T * Vh\n",
    "    Ak = Ak.reshape(A.shape)\n",
    "\n",
    "    # right SVD\n",
    "    Ak = np.moveaxis(Ak, 1, 0).reshape((A.shape[1], -1))\n",
    "    Ur, S, Vh = np.linalg.svd(Ak, full_matrices=False, compute_uv=True, hermitian=False)\n",
    "\n",
    "    Ak = np.atleast_2d(S).T * Vh\n",
    "    Ak = Ak.reshape(A.shape)\n",
    "    Ak = np.moveaxis(Ak, 1, 0)\n",
    "\n",
    "    return Ak, Ul, Ur"
   ]
  },
  {
   "cell_type": "markdown",
   "metadata": {},
   "source": [
    "\n",
    "3. Compute the truncation error from sides _L_ and _R_.\n",
    "\n",
    "$$\n",
    "\\varepsilon_L = \\sum_{i > \\chi} \\vert S_{i,:,:,:} \\vert^2\n",
    "$$\n",
    "\n",
    "$$\n",
    "\\varepsilon_R = \\sum_{j > \\chi} \\vert S_{:,j,:,:} \\vert^2\n",
    "$$\n"
   ]
  },
  {
   "cell_type": "code",
   "execution_count": 5,
   "metadata": {},
   "outputs": [],
   "source": [
    "def error_left(S: ArrayLike, max_bond: int) -> float:\n",
    "    return np.sum(np.square(np.abs(S[max_bond:, :, :, :])))\n",
    "\n",
    "\n",
    "def error_right(S: ArrayLike, max_bond: int) -> float:\n",
    "    return np.sum(np.square(np.abs(S[:, max_bond:, :, :])))"
   ]
  },
  {
   "cell_type": "markdown",
   "metadata": {},
   "source": [
    "\n",
    "4. Create a projector $U$ from the side that better approximates $M$, and normalize.\n",
    "   - Normalizing against $\\sqrt{\\max(S)}$ seems to work.\n",
    "   - $\\sqrt{}$ is due to the fact that the projector is applied twice.\n",
    "   - If max bond dimension $\\chi$ is surpassed, truncate.\n",
    "\n",
    "$$\n",
    "\\hat{U}^{(n)} = \\begin{cases}\n",
    "U^L / \\sqrt{\\max{S}} & \\varepsilon_1 < \\varepsilon_2 \\\\\n",
    "U^R / \\sqrt{\\max{S}} & \\text{otherwise}\n",
    "\\end{cases}\n",
    "$$"
   ]
  },
  {
   "cell_type": "markdown",
   "metadata": {},
   "source": [
    "\n",
    "5. Project $M$ with $\\hat{U}$ to update $T$.\n",
    "\n",
    "$$ T^{(n)}_{lrud} = \\sum_{\\alpha \\beta} \\hat{U}_{l,\\alpha} M^{(n)}_{\\alpha \\beta u d} \\hat{U}_{r,\\beta} $$"
   ]
  },
  {
   "cell_type": "code",
   "execution_count": 6,
   "metadata": {},
   "outputs": [],
   "source": [
    "def update_tensor(U: np.ndarray, M: np.ndarray, backend=\"numpy\") -> np.ndarray:\n",
    "    return oe.contract(\"il,ijud,jr->lrud\", U, M, U, backend=backend)"
   ]
  },
  {
   "cell_type": "code",
   "execution_count": 7,
   "metadata": {},
   "outputs": [],
   "source": [
    "def one_iteration(H: np.ndarray, T: np.ndarray, chi: int, backend=\"numpy\") -> tuple[np.ndarray, np.ndarray]:\n",
    "\t# contract with environment\n",
    "\tMh = contract_tensors(H, T, backend=backend)\n",
    "\tMt = contract_tensors(T, T, backend=backend)\n",
    "\n",
    "\t# decompose tensor\n",
    "\t# S, Us = hotrg.hosvd(Mt)\n",
    "\tS, Ul, Ur = hosvd_sides(Mt)\n",
    "\n",
    "\t# compute projector\n",
    "\tepsl = error_left(S, chi)\n",
    "\tepsr = error_right(S, chi)\n",
    "\tU = Ul if epsl < epsr else Ur\n",
    "\n",
    "\tif U.shape[1] > chi:\n",
    "\t\tU = U[:, 0:chi]\n",
    "\tU /= np.sqrt(np.max(S))\n",
    "\n",
    "\t# update tensors\n",
    "\tH = update_tensor(U, Mh, backend=backend)\n",
    "\tT = update_tensor(U, Mt, backend=backend)\n",
    "\n",
    "\treturn H, T"
   ]
  },
  {
   "cell_type": "markdown",
   "metadata": {},
   "source": [
    "## Benchmark version"
   ]
  },
  {
   "cell_type": "code",
   "execution_count": 8,
   "metadata": {},
   "outputs": [
    {
     "data": {
      "application/vnd.jupyter.widget-view+json": {
       "model_id": "dfb3c0ea081c42daa45c25a6c0105161",
       "version_major": 2,
       "version_minor": 0
      },
      "text/plain": [
       "FloatSlider(value=2.0, max=5.0, min=2.0)"
      ]
     },
     "metadata": {},
     "output_type": "display_data"
    }
   ],
   "source": [
    "temperature = widgets.FloatSlider(min=2, max=5)\n",
    "temperature"
   ]
  },
  {
   "cell_type": "code",
   "execution_count": 9,
   "metadata": {},
   "outputs": [
    {
     "data": {
      "application/vnd.jupyter.widget-view+json": {
       "model_id": "0461c4c786fb41a69b3978f11e68669c",
       "version_major": 2,
       "version_minor": 0
      },
      "text/plain": [
       "IntSlider(value=1, max=20, min=1)"
      ]
     },
     "metadata": {},
     "output_type": "display_data"
    }
   ],
   "source": [
    "repeats = widgets.IntSlider(min=1, max=20)\n",
    "repeats"
   ]
  },
  {
   "cell_type": "code",
   "execution_count": 10,
   "metadata": {},
   "outputs": [
    {
     "data": {
      "application/vnd.jupyter.widget-view+json": {
       "model_id": "ef77605fa222492e830e8008c6dc6b61",
       "version_major": 2,
       "version_minor": 0
      },
      "text/plain": [
       "IntSlider(value=8, max=24, min=8)"
      ]
     },
     "metadata": {},
     "output_type": "display_data"
    }
   ],
   "source": [
    "chi = widgets.IntSlider(value=8, min=8, max=24)\n",
    "chi"
   ]
  },
  {
   "cell_type": "code",
   "execution_count": 14,
   "metadata": {},
   "outputs": [],
   "source": [
    "def trace(t):\n",
    "\treturn oe.contract(\"iijj->\", t)"
   ]
  },
  {
   "cell_type": "markdown",
   "metadata": {},
   "source": [
    "## benchmark without transposition"
   ]
  },
  {
   "cell_type": "markdown",
   "metadata": {},
   "source": [
    "### numpy"
   ]
  },
  {
   "cell_type": "code",
   "execution_count": 17,
   "metadata": {},
   "outputs": [
    {
     "data": {
      "application/vnd.jupyter.widget-view+json": {
       "model_id": "961888257374499ca87496e320759841",
       "version_major": 2,
       "version_minor": 0
      },
      "text/plain": [
       "  0%|          | 0/10 [00:00<?, ?it/s]"
      ]
     },
     "metadata": {},
     "output_type": "display_data"
    },
    {
     "name": "stdout",
     "output_type": "stream",
     "text": [
      "magnetization = -3.232063936613788e-16\n",
      "magnetization = -1.7432541940774993e-15\n",
      "magnetization = -4.043276130774083e-12\n",
      "magnetization = 1.5715931606536523e-07\n",
      "magnetization = 2.381222821784464e-06\n",
      "magnetization = 3.785898048732858e-05\n",
      "magnetization = 0.0006068945776025176\n",
      "magnetization = 0.00971173897266511\n",
      "magnetization = 0.1539079128211382\n",
      "magnetization = 0.9039619793836275\n"
     ]
    }
   ],
   "source": [
    "T = hotrg.ising.partition_tensor(temperature.value)\n",
    "H = hotrg.ising.magnetization(temperature.value)\n",
    "magnetization = [trace(H)/trace(T)]\n",
    "\n",
    "with cProfile.Profile() as profile:\n",
    "\tfor _ in tqdm(range(repeats.value)):\n",
    "\t\tfor permutator in itertools.islice(itertools.cycle([(0,1,3,2), (2,3,0,1)]), 4):\n",
    "\t\t\t\tH, T = one_iteration(H, T, chi.value)\n",
    "\t\t\t\tH = H.transpose(permutator)\n",
    "\t\t\t\tT = T.transpose(permutator)\n",
    "\t\tprint(f\"magnetization = {trace(H)/trace(T)}\")"
   ]
  },
  {
   "cell_type": "code",
   "execution_count": 18,
   "metadata": {},
   "outputs": [
    {
     "name": "stdout",
     "output_type": "stream",
     "text": [
      "         131231 function calls (121304 primitive calls) in 10.204 seconds\n",
      "\n",
      "   Ordered by: internal time\n",
      "\n",
      "   ncalls  tottime  percall  cumtime  percall filename:lineno(function)\n",
      "       80    8.263    0.103    8.313    0.104 linalg.py:1477(svd)\n",
      " 1020/780    0.967    0.001    9.374    0.012 {built-in method numpy.core._multiarray_umath.implement_array_function}\n",
      "       40    0.133    0.003    0.149    0.004 4216494312.py:5(error_right)\n",
      "      960    0.115    0.000    0.115    0.000 {method 'reshape' of 'numpy.ndarray' objects}\n",
      "       40    0.112    0.003    8.464    0.212 3891133017.py:1(hosvd_sides)\n",
      "       40    0.099    0.002    0.110    0.003 4216494312.py:1(error_left)\n",
      "       59    0.073    0.001    0.073    0.001 socket.py:543(send)\n",
      "      600    0.048    0.000    0.048    0.000 {method 'reduce' of 'numpy.ufunc' objects}\n",
      "      240    0.046    0.000    0.046    0.000 {method 'astype' of 'numpy.ndarray' objects}\n",
      "      180    0.023    0.000    0.099    0.001 contract.py:93(contract_path)\n",
      "      240    0.019    0.000    0.991    0.004 numeric.py:949(tensordot)\n",
      "       13    0.013    0.001    0.014    0.001 notebook.py:200(colour)\n",
      "      180    0.012    0.000    1.039    0.006 contract.py:530(_core_contract)\n",
      "13044/7372    0.012    0.000    0.065    0.000 {built-in method builtins.getattr}\n",
      "       92    0.012    0.000    0.012    0.000 {built-in method builtins.dir}\n",
      "       40    0.009    0.000    9.968    0.249 296636588.py:1(one_iteration)\n",
      "     1380    0.009    0.000    0.015    0.000 parser.py:154(<genexpr>)\n",
      "2128/1597    0.009    0.000    0.068    0.000 traitlets.py:643(get)\n",
      "      180    0.008    0.000    0.012    0.000 parser.py:246(parse_einsum_input)\n",
      "  447/436    0.007    0.000    0.012    0.000 traitlets.py:1388(_notify_observers)\n",
      "       66    0.007    0.000    0.026    0.000 traitlets.py:276(getmembers)\n",
      "      180    0.006    0.000    1.146    0.006 contract.py:378(contract)\n",
      "       80    0.006    0.000    0.008    0.000 paths.py:63(ssa_to_linear)\n",
      "      260    0.006    0.000    0.008    0.000 blas.py:12(can_blas)\n",
      "   400/80    0.005    0.000    0.012    0.000 paths.py:190(_optimal_iterate)\n",
      "      480    0.005    0.000    0.007    0.000 paths.py:100(calc_k12_flops)\n",
      "      180    0.004    0.000    0.009    0.000 encoder.py:182(encode)\n",
      "      368    0.004    0.000    0.005    0.000 traitlets.py:1715(_get_trait_default_generator)\n",
      "    14733    0.004    0.000    0.004    0.000 {built-in method builtins.isinstance}\n",
      "       13    0.004    0.000    0.006    0.000 std.py:355(format_meter)\n",
      "      120    0.004    0.000    0.035    0.000 fromnumeric.py:69(_wrapreduction)\n",
      "       66    0.003    0.000    0.037    0.001 traitlets.py:1766(traits)\n",
      "        1    0.003    0.003    0.010    0.010 decorator.py:229(fun)\n",
      "     7660    0.003    0.000    0.003    0.000 {built-in method builtins.len}\n",
      "       69    0.003    0.000    0.003    0.000 {method 'acquire' of '_thread.lock' objects}\n",
      "       66    0.003    0.000    0.005    0.000 traitlets.py:1781(<listcomp>)\n",
      "     1780    0.003    0.000    0.003    0.000 helpers.py:53(compute_size_by_dict)\n",
      "5300/2750    0.003    0.000    0.070    0.000 traitlets.py:675(__get__)\n",
      "      180    0.003    0.000    0.005    0.000 encoder.py:204(iterencode)\n",
      "     2165    0.003    0.000    0.005    0.000 {built-in method builtins.max}\n",
      "    11078    0.003    0.000    0.003    0.000 {method 'append' of 'list' objects}\n",
      "      260    0.003    0.000    0.005    0.000 helpers.py:82(find_contraction)\n",
      "       26    0.002    0.000    0.009    0.000 traitlets.py:1186(setup_instance)\n",
      "      180    0.002    0.000    0.012    0.000 __init__.py:183(dumps)\n",
      "     3260    0.002    0.000    0.002    0.000 {method 'count' of 'str' objects}\n",
      "     1372    0.002    0.000    0.002    0.000 {built-in method builtins.hasattr}\n",
      "      160    0.002    0.000    0.003    0.000 numeric.py:1347(normalize_axis_tuple)\n",
      "     4743    0.002    0.000    0.002    0.000 {method 'get' of 'dict' objects}\n",
      "     1075    0.002    0.000    0.002    0.000 {method 'items' of 'dict' objects}\n",
      "     2240    0.002    0.000    0.002    0.000 parser.py:155(<genexpr>)\n",
      "      680    0.002    0.000    0.002    0.000 {built-in method builtins.sorted}\n",
      "       80    0.002    0.000    0.673    0.008 697584815.py:1(contract_tensors)\n",
      "       80    0.002    0.000    0.022    0.000 paths.py:152(optimal)\n",
      "      920    0.002    0.000    0.005    0.000 helpers.py:137(flop_count)\n",
      "     1354    0.002    0.000    0.002    0.000 bunch.py:13(__getattr__)\n",
      "       80    0.002    0.000    0.026    0.000 fromnumeric.py:2162(sum)\n",
      "       80    0.002    0.000    0.006    0.000 numeric.py:1410(moveaxis)\n",
      "      240    0.002    0.000    1.013    0.004 contract.py:369(_tensordot)\n",
      "      420    0.002    0.000    0.002    0.000 sharing.py:23(currently_sharing)\n",
      "     3200    0.002    0.000    0.002    0.000 {method 'find' of 'str' objects}\n",
      "       80    0.002    0.000    0.002    0.000 shape_base.py:81(atleast_2d)\n",
      "      840    0.001    0.000    0.002    0.000 {method 'join' of 'str' objects}\n",
      "      800    0.001    0.000    0.001    0.000 {method 'transpose' of 'numpy.ndarray' objects}\n",
      "       45    0.001    0.000    0.091    0.002 session.py:751(send)\n",
      "      327    0.001    0.000    0.003    0.000 traitlets.py:1799(trait_metadata)\n",
      "  368/100    0.001    0.000    0.060    0.001 traitlets.py:1740(trait_defaults)\n",
      "     1120    0.001    0.000    0.002    0.000 parser.py:155(<listcomp>)\n",
      "       90    0.001    0.000    0.001    0.000 {method 'isoformat' of 'datetime.datetime' objects}\n",
      "       80    0.001    0.000    8.317    0.104 <__array_function__ internals>:177(svd)\n",
      "    44/37    0.001    0.000    0.082    0.002 widget.py:557(get_state)\n",
      "      260    0.001    0.000    0.016    0.000 parser.py:141(find_output_shape)\n",
      "      240    0.001    0.000    0.945    0.004 <__array_function__ internals>:177(dot)\n",
      "       87    0.001    0.000    0.001    0.000 {method 'format' of 'str' objects}\n",
      "     1040    0.001    0.000    0.001    0.000 {method 'split' of 'str' objects}\n",
      "      405    0.001    0.000    0.001    0.000 contextlib.py:102(__init__)\n",
      "      240    0.001    0.000    1.011    0.004 <__array_function__ internals>:177(tensordot)\n",
      "       44    0.001    0.000    0.094    0.002 comm.py:66(_publish_msg)\n",
      "      420    0.001    0.000    0.001    0.000 dispatch.py:60(get_func)\n",
      "     11/4    0.001    0.000    0.080    0.020 widget.py:474(__init__)\n",
      "       59    0.001    0.000    0.001    0.000 iostream.py:90(_event_pipe)\n",
      "     2001    0.001    0.000    0.001    0.000 {method 'pop' of 'list' objects}\n",
      "      240    0.001    0.000    1.016    0.004 sharing.py:128(cached_tensordot)\n",
      "       80    0.001    0.000    0.007    0.000 <__array_function__ internals>:177(moveaxis)\n",
      "       80    0.001    0.000    0.552    0.007 174163943.py:1(update_tensor)\n",
      "      260    0.001    0.000    0.001    0.000 contract.py:289(<listcomp>)\n",
      "       61    0.001    0.000    0.001    0.000 threading.py:1102(_wait_for_tstate_lock)\n",
      "  483/477    0.001    0.000    0.003    0.000 traitlets.py:717(_validate)\n",
      "      594    0.001    0.000    0.001    0.000 {method 'replace' of 'str' objects}\n",
      "       80    0.001    0.000    0.001    0.000 {built-in method numpy.arange}\n",
      "       46    0.001    0.000    0.106    0.002 widget.py:676(notify_change)\n",
      "     1360    0.001    0.000    0.001    0.000 contract.py:564(<genexpr>)\n",
      "       59    0.001    0.000    0.076    0.001 iostream.py:202(schedule)\n",
      "       80    0.001    0.000    0.027    0.000 <__array_function__ internals>:177(sum)\n",
      "       26    0.001    0.000    0.003    0.000 traitlets.py:1226(__init__)\n",
      "      180    0.001    0.000    0.002    0.000 contract.py:244(<listcomp>)\n",
      "       94    0.001    0.000    0.001    0.000 traitlets.py:726(_cross_validate)\n",
      "  816/810    0.001    0.000    0.002    0.000 {built-in method builtins.next}\n",
      "       11    0.001    0.000    0.001    0.000 {built-in method posix.urandom}\n",
      "       45    0.001    0.000    0.016    0.000 session.py:687(serialize)\n",
      "       80    0.001    0.000    0.001    0.000 linalg.py:112(_makearray)\n",
      "      160    0.001    0.000    0.004    0.000 contract.py:361(_transpose)\n",
      "       80    0.001    0.000    0.001    0.000 linalg.py:136(_commonType)\n",
      "   109/98    0.001    0.000    0.109    0.001 traitlets.py:688(set)\n",
      "       12    0.001    0.000    0.127    0.011 notebook.py:149(display)\n",
      "       66    0.001    0.000    0.001    0.000 {method 'sort' of 'list' objects}\n",
      "      360    0.001    0.000    0.002    0.000 {built-in method builtins.sum}\n",
      "      180    0.001    0.000    0.001    0.000 contract.py:214(<listcomp>)\n",
      "      180    0.001    0.000    0.013    0.000 session.py:97(json_packer)\n",
      "        2    0.001    0.000    0.030    0.015 notebook.py:280(close)\n",
      "      160    0.001    0.000    0.005    0.000 sharing.py:110(cached_transpose)\n",
      "      760    0.001    0.000    0.001    0.000 helpers.py:126(<genexpr>)\n",
      "     2215    0.001    0.000    0.001    0.000 {method 'pop' of 'dict' objects}\n",
      "      480    0.001    0.000    0.001    0.000 paths.py:74(<genexpr>)\n",
      "       45    0.001    0.000    0.001    0.000 session.py:599(msg_id)\n",
      "      520    0.001    0.000    0.001    0.000 {method 'union' of 'set' objects}\n",
      "      405    0.001    0.000    0.002    0.000 contextlib.py:279(helper)\n",
      "      160    0.001    0.000    0.001    0.000 linalg.py:130(_realType)\n",
      "      180    0.001    0.000    0.001    0.000 parser.py:277(<listcomp>)\n",
      "       20    0.001    0.000    0.001    0.000 {built-in method numpy.core._multiarray_umath.c_einsum}\n",
      "  405/402    0.001    0.000    0.002    0.000 contextlib.py:139(__exit__)\n",
      "      160    0.001    0.000    0.003    0.000 <__array_function__ internals>:177(transpose)\n",
      "      422    0.001    0.000    0.001    0.000 {built-in method _thread.get_ident}\n",
      "      260    0.001    0.000    0.001    0.000 contract.py:552(<listcomp>)\n",
      "      160    0.001    0.000    0.001    0.000 {built-in method _operator.index}\n",
      "       80    0.001    0.000    0.022    0.000 paths.py:1072(auto)\n",
      "    49/44    0.000    0.000    0.001    0.000 widget.py:93(_separate_buffers)\n",
      "      160    0.000    0.000    0.001    0.000 fromnumeric.py:51(_wrapfunc)\n",
      "      180    0.000    0.000    0.001    0.000 contract.py:514(parse_backend)\n",
      "      405    0.000    0.000    0.001    0.000 contextlib.py:130(__enter__)\n",
      "       45    0.000    0.000    0.000    0.000 {method 'replace' of 'datetime.datetime' objects}\n",
      "      240    0.000    0.000    0.000    0.000 blas.py:85(<listcomp>)\n",
      "       45    0.000    0.000    0.003    0.000 session.py:646(msg)\n",
      "       74    0.000    0.000    0.001    0.000 traitlets.py:1308(hold_trait_notifications)\n",
      "      600    0.000    0.000    0.002    0.000 contract.py:253(<genexpr>)\n",
      "      180    0.000    0.000    0.000    0.000 {method 'update' of '_hashlib.HMAC' objects}\n",
      "      395    0.000    0.000    0.001    0.000 traitlets.py:1667(has_trait)\n",
      "       80    0.000    0.000    0.003    0.000 <__array_function__ internals>:177(atleast_2d)\n",
      "      420    0.000    0.000    0.001    0.000 parser.py:158(possibly_convert_to_numpy)\n",
      "      180    0.000    0.000    0.000    0.000 contract.py:475(<dictcomp>)\n",
      "    79/68    0.000    0.000    0.107    0.002 traitlets.py:1373(_notify_trait)\n",
      "       10    0.000    0.000    0.097    0.010 std.py:1212(update)\n",
      "       45    0.000    0.000    0.002    0.000 session.py:672(sign)\n",
      "      180    0.000    0.000    0.000    0.000 encoder.py:104(__init__)\n",
      "      260    0.000    0.000    0.001    0.000 contract.py:290(<listcomp>)\n",
      "      160    0.000    0.000    0.001    0.000 fromnumeric.py:601(transpose)\n",
      "       33    0.000    0.000    0.101    0.003 widget.py:538(send_state)\n",
      "       90    0.000    0.000    0.002    0.000 jsonutil.py:108(json_default)\n",
      "   324/84    0.000    0.000    0.051    0.001 traitlets.py:605(default)\n",
      "      736    0.000    0.000    0.000    0.000 traitlets.py:1288(cross_validation_lock)\n",
      "       20    0.000    0.000    0.007    0.000 iostream.py:518(write)\n",
      "     11/4    0.000    0.000    0.079    0.020 widget.py:490(open)\n",
      "      480    0.000    0.000    0.000    0.000 {method 'union' of 'frozenset' objects}\n",
      "       13    0.000    0.000    0.014    0.001 std.py:1460(format_dict)\n",
      "      153    0.000    0.000    0.001    0.000 traitlets.py:2043(instance_init)\n",
      "      368    0.000    0.000    0.000    0.000 {method 'mro' of 'type' objects}\n",
      "       45    0.000    0.000    0.069    0.002 iostream.py:283(send_multipart)\n",
      "      120    0.000    0.000    0.000    0.000 fromnumeric.py:70(<dictcomp>)\n",
      "      240    0.000    0.000    0.000    0.000 numeric.py:1120(<listcomp>)\n",
      "      160    0.000    0.000    0.000    0.000 numeric.py:1397(<listcomp>)\n",
      "      738    0.000    0.000    0.000    0.000 {method 'get' of 'mappingproxy' objects}\n",
      "     1878    0.000    0.000    0.000    0.000 {method 'extend' of 'list' objects}\n",
      "       45    0.000    0.000    0.001    0.000 hmac.py:122(copy)\n",
      "       61    0.000    0.000    0.001    0.000 threading.py:1169(is_alive)\n",
      "       45    0.000    0.000    0.000    0.000 {method 'copy' of '_hashlib.HMAC' objects}\n",
      "      110    0.000    0.000    0.000    0.000 {built-in method posix.getpid}\n",
      "       26    0.000    0.000    0.009    0.000 traitlets.py:1171(__new__)\n",
      "      180    0.000    0.000    0.000    0.000 contract.py:218(<listcomp>)\n",
      "       40    0.000    0.000    0.011    0.000 fromnumeric.py:2677(amax)\n",
      "      238    0.000    0.000    0.000    0.000 {method 'encode' of 'str' objects}\n",
      "       33    0.000    0.000    0.083    0.003 widget.py:814(_send)\n",
      "       80    0.000    0.000    0.000    0.000 linalg.py:107(get_linalg_error_extobj)\n",
      "     1354    0.000    0.000    0.000    0.000 {method '__getitem__' of 'dict' objects}\n",
      "      560    0.000    0.000    0.000    0.000 {built-in method numpy.asarray}\n",
      "       45    0.000    0.000    0.000    0.000 {built-in method utcnow}\n",
      "       65    0.000    0.000    0.000    0.000 std.py:233(__call__)\n",
      "      240    0.000    0.000    0.000    0.000 numeric.py:1126(<listcomp>)\n",
      "       45    0.000    0.000    0.000    0.000 {method 'hexdigest' of '_hashlib.HMAC' objects}\n",
      "      180    0.000    0.000    0.000    0.000 dispatch.py:76(has_einsum)\n",
      "       45    0.000    0.000    0.002    0.000 session.py:643(msg_header)\n",
      "      160    0.000    0.000    0.000    0.000 {method '__array_prepare__' of 'numpy.ndarray' objects}\n",
      "    96/85    0.000    0.000    0.109    0.001 traitlets.py:706(__set__)\n",
      "       45    0.000    0.000    0.001    0.000 session.py:201(utcnow)\n",
      "      240    0.000    0.000    0.000    0.000 numeric.py:1128(<listcomp>)\n",
      "      180    0.000    0.000    0.000    0.000 contract.py:74(_choose_memory_arg)\n",
      "       80    0.000    0.000    0.000    0.000 linalg.py:194(_assert_stacked_2d)\n",
      "       40    0.000    0.000    0.011    0.000 <__array_function__ internals>:177(amax)\n",
      "       20    0.000    0.000    0.001    0.000 contract.py:333(_einsum)\n",
      "      438    0.000    0.000    0.000    0.000 {built-in method builtins.issubclass}\n",
      "       26    0.000    0.000    0.009    0.000 traitlets.py:1215(setup_instance)\n",
      "      240    0.000    0.000    0.000    0.000 numeric.py:1125(<listcomp>)\n",
      "       89    0.000    0.000    0.000    0.000 jsonutil.py:77(json_clean)\n",
      "      492    0.000    0.000    0.000    0.000 traitlets.py:263(__init__)\n",
      "       33    0.000    0.000    0.001    0.000 widget.py:724(_should_send_property)\n",
      "       57    0.000    0.000    0.012    0.000 traitlets.py:1129(__call__)\n",
      "       11    0.000    0.000    0.000    0.000 uuid.py:138(__init__)\n",
      "       11    0.000    0.000    0.017    0.002 comm.py:87(open)\n",
      "       45    0.000    0.000    0.001    0.000 session.py:273(msg_header)\n",
      "      160    0.000    0.000    0.000    0.000 {built-in method numpy.core._multiarray_umath.normalize_axis_index}\n",
      "       45    0.000    0.000    0.069    0.002 iostream.py:214(send_multipart)\n",
      "      180    0.000    0.000    0.001    0.000 hmac.py:117(update)\n",
      "       10    0.000    0.000    0.096    0.010 std.py:1339(refresh)\n",
      "       11    0.000    0.000    0.009    0.001 configurable.py:50(__init__)\n",
      "       20    0.000    0.000    0.007    0.000 846286858.py:1(trace)\n",
      "      421    0.000    0.000    0.000    0.000 traitlets.py:1136(__get__)\n",
      "      240    0.000    0.000    0.000    0.000 multiarray.py:736(dot)\n",
      "       21    0.000    0.000    0.000    0.000 traitlets.py:2687(validate)\n",
      "      243    0.000    0.000    0.000    0.000 {built-in method builtins.iter}\n",
      "       45    0.000    0.000    0.000    0.000 {built-in method builtins.locals}\n",
      "       33    0.000    0.000    0.000    0.000 traitlets.py:3224(instance_init)\n",
      "       33    0.000    0.000    0.083    0.003 comm.py:135(send)\n",
      "       10    0.000    0.000    0.008    0.001 {built-in method builtins.print}\n",
      "       11    0.000    0.000    0.127    0.012 std.py:1174(__iter__)\n",
      "       20    0.000    0.000    0.000    0.000 contract.py:510(infer_backend)\n",
      "       80    0.000    0.000    0.000    0.000 fromnumeric.py:2157(_sum_dispatcher)\n",
      "      133    0.000    0.000    0.000    0.000 traitlets.py:2371(validate)\n",
      "       11    0.000    0.000    0.007    0.001 configurable.py:156(_load_config)\n",
      "       11    0.000    0.000    0.028    0.003 comm.py:55(__init__)\n",
      "       45    0.000    0.000    0.000    0.000 session.py:846(<listcomp>)\n",
      "       80    0.000    0.000    0.000    0.000 paths.py:1122(get_path_fn)\n",
      "      492    0.000    0.000    0.000    0.000 traitlets.py:266(__call__)\n",
      "      160    0.000    0.000    0.000    0.000 linalg.py:117(isComplexType)\n",
      "      240    0.000    0.000    0.000    0.000 numeric.py:1133(<listcomp>)\n",
      "       11    0.000    0.000    0.011    0.001 widget.py:461(_default_keys)\n",
      "       90    0.000    0.000    0.000    0.000 jsonutil.py:39(_ensure_tzinfo)\n",
      "       48    0.000    0.000    0.001    0.000 traitlets.py:2051(make_dynamic_default)\n",
      "      240    0.000    0.000    0.000    0.000 numeric.py:945(_tensordot_dispatcher)\n",
      "       24    0.000    0.000    0.000    0.000 std.py:288(format_interval)\n",
      "      153    0.000    0.000    0.000    0.000 traitlets.py:2047(_resolve_classes)\n",
      "       11    0.000    0.000    0.000    0.000 {built-in method now}\n",
      "      240    0.000    0.000    0.000    0.000 numeric.py:1134(<listcomp>)\n",
      "    79/68    0.000    0.000    0.003    0.000 traitlets.py:1384(notify_change)\n",
      "       44    0.000    0.000    0.000    0.000 kernelbase.py:617(get_parent)\n",
      "      368    0.000    0.000    0.000    0.000 {method 'index' of 'list' objects}\n",
      "       80    0.000    0.000    0.000    0.000 {built-in method numpy.asanyarray}\n",
      "       80    0.000    0.000    0.000    0.000 numeric.py:1472(<listcomp>)\n",
      "        7    0.000    0.000    0.050    0.007 trait_types.py:167(make_dynamic_default)\n",
      "       80    0.000    0.000    0.000    0.000 {method 'insert' of 'list' objects}\n",
      "       33    0.000    0.000    0.000    0.000 traitlets.py:1433(_add_notifiers)\n",
      "       10    0.000    0.000    0.097    0.010 notebook.py:268(update)\n",
      "       44    0.000    0.000    0.001    0.000 widget.py:138(_remove_buffers)\n",
      "       13    0.000    0.000    0.000    0.000 traitlets.py:1335(hold)\n",
      "       13    0.000    0.000    0.000    0.000 std.py:104(acquire)\n",
      "       22    0.000    0.000    0.000    0.000 configurable.py:125(<listcomp>)\n",
      "       12    0.000    0.000    0.000    0.000 {method 'split' of 're.Pattern' objects}\n",
      "        4    0.000    0.000    0.000    0.000 traitlets.py:2528(validate)\n",
      "       13    0.000    0.000    0.000    0.000 std.py:108(release)\n",
      "       85    0.000    0.000    0.000    0.000 traitlets.py:2027(validate)\n",
      "        2    0.000    0.000    0.004    0.002 iostream.py:463(flush)\n",
      "       33    0.000    0.000    0.000    0.000 traitlets.py:1495(observe)\n",
      "       11    0.000    0.000    0.001    0.000 uuid.py:713(uuid4)\n",
      "       45    0.000    0.000    0.000    0.000 session.py:280(extract_header)\n",
      "       11    0.000    0.000    0.001    0.000 configurable.py:131(_find_my_config)\n",
      "       33    0.000    0.000    0.000    0.000 loader.py:217(_is_section_key)\n",
      "      575    0.000    0.000    0.000    0.000 traitlets.py:504(instance_init)\n",
      "       11    0.000    0.000    0.001    0.000 widget.py:505(_comm_changed)\n",
      "      160    0.000    0.000    0.000    0.000 fromnumeric.py:597(_transpose_dispatcher)\n",
      "       20    0.000    0.000    0.007    0.000 iostream.py:448(_schedule_flush)\n",
      "       22    0.000    0.000    0.000    0.000 loader.py:239(__init__)\n",
      "       31    0.000    0.000    0.000    0.000 traitlets.py:2718(instance_init)\n",
      "       15    0.000    0.000    0.000    0.000 traitlets.py:2834(validate_elements)\n",
      "       22    0.000    0.000    0.000    0.000 configurable.py:122(section_names)\n",
      "       44    0.000    0.000    0.000    0.000 traitlets.py:237(parse_notifier_name)\n",
      "       20    0.000    0.000    0.001    0.000 sharing.py:148(cached_einsum)\n",
      "      120    0.000    0.000    0.000    0.000 parser.py:21(is_valid_einsum_char)\n",
      "       24    0.000    0.000    0.000    0.000 __init__.py:12(escape)\n",
      "       45    0.000    0.000    0.000    0.000 hmac.py:161(hexdigest)\n",
      "      180    0.000    0.000    0.000    0.000 contract.py:489(<listcomp>)\n",
      "      2/1    0.000    0.000    0.011    0.011 display_functions.py:105(display)\n",
      "       18    0.000    0.000    0.000    0.000 traitlets.py:1155(instance_init)\n",
      "       69    0.000    0.000    0.000    0.000 {method 'update' of 'dict' objects}\n",
      "       18    0.000    0.000    0.000    0.000 traitlets.py:1557(_register_validator)\n",
      "       22    0.000    0.000    0.000    0.000 traitlets.py:1147(instance_init)\n",
      "      286    0.000    0.000    0.000    0.000 widget.py:779(_trait_to_json)\n",
      "       20    0.000    0.000    0.000    0.000 {built-in method builtins.all}\n",
      "       80    0.000    0.000    0.000    0.000 numeric.py:1406(_moveaxis_dispatcher)\n",
      "       33    0.000    0.000    0.000    0.000 loader.py:296(__contains__)\n",
      "       20    0.000    0.000    0.001    0.000 <__array_function__ internals>:177(einsum)\n",
      "      493    0.000    0.000    0.000    0.000 {built-in method builtins.callable}\n",
      "        1    0.000    0.000    0.082    0.082 notebook.py:104(status_printer)\n",
      "       16    0.000    0.000    0.000    0.000 traitlets.py:2286(validate)\n",
      "       20    0.000    0.000    0.000    0.000 iostream.py:429(_is_master_process)\n",
      "       20    0.000    0.000    0.000    0.000 parser.py:35(has_valid_einsum_chars_only)\n",
      "       72    0.000    0.000    0.000    0.000 {built-in method __new__ of type object at 0x55602824e4a0}\n",
      "       80    0.000    0.000    0.000    0.000 linalg.py:1473(_svd_dispatcher)\n",
      "       11    0.000    0.000    0.001    0.000 comm.py:27(_default_comm_id)\n",
      "       13    0.000    0.000    0.000    0.000 utils.py:57(__init__)\n",
      "       12    0.000    0.000    0.000    0.000 re.py:222(split)\n",
      "       33    0.000    0.000    0.000    0.000 loader.py:309(_has_section)\n",
      "       12    0.000    0.000    0.000    0.000 widget_float.py:33(_validate_value)\n",
      "       20    0.000    0.000    0.001    0.000 einsumfunc.py:1009(einsum)\n",
      "        1    0.000    0.000    0.000    0.000 {built-in method fcntl.ioctl}\n",
      "       11    0.000    0.000    0.000    0.000 widget.py:463(<listcomp>)\n",
      "       21    0.000    0.000    0.000    0.000 traitlets.py:2699(validate_elements)\n",
      "       11    0.000    0.000    0.005    0.000 manager.py:43(register_comm)\n",
      "        2    0.000    0.000    0.000    0.000 threading.py:236(__init__)\n",
      "        1    0.000    0.000    0.001    0.001 formatters.py:395(lookup_by_type)\n",
      "       10    0.000    0.000    0.001    0.000 formatters.py:551(_in_deferred_types)\n",
      "       14    0.000    0.000    0.001    0.000 {built-in method builtins.setattr}\n",
      "       11    0.000    0.000    0.000    0.000 uuid.py:333(hex)\n",
      "       80    0.000    0.000    0.000    0.000 shape_base.py:77(_atleast_2d_dispatcher)\n",
      "       11    0.000    0.000    0.000    0.000 comm.py:20(_default_kernel)\n",
      "       11    0.000    0.000    0.000    0.000 traitlets.py:1446(_remove_notifiers)\n",
      "       12    0.000    0.000    0.000    0.000 re.py:288(_compile)\n",
      "       32    0.000    0.000    0.000    0.000 widget.py:515(model_id)\n",
      "       11    0.000    0.000    0.127    0.012 notebook.py:255(__iter__)\n",
      "       80    0.000    0.000    0.000    0.000 einsumfunc.py:1001(_einsum_dispatcher)\n",
      "        1    0.000    0.000    0.017    0.017 widget_box.py:62(__init__)\n",
      "        1    0.000    0.000    0.095    0.095 notebook.py:210(__init__)\n",
      "        2    0.000    0.000    0.000    0.000 threading.py:545(__init__)\n",
      "     11/8    0.000    0.000    0.000    0.000 widget.py:51(_widget_to_json)\n",
      "       45    0.000    0.000    0.000    0.000 tz.py:74(utcoffset)\n",
      "        1    0.000    0.000    0.006    0.006 widget.py:789(_ipython_display_)\n",
      "       16    0.000    0.000    0.000    0.000 traitlets.py:2196(_validate_bounds)\n",
      "       62    0.000    0.000    0.000    0.000 threading.py:553(is_set)\n",
      "        1    0.000    0.000    0.000    0.000 std.py:846(__init__)\n",
      "       11    0.000    0.000    0.000    0.000 comm.py:43(_default_topic)\n",
      "       13    0.000    0.000    0.000    0.000 traitlets.py:1603(set_trait)\n",
      "       11    0.000    0.000    0.000    0.000 traitlets.py:1525(unobserve)\n",
      "       20    0.000    0.000    0.000    0.000 dispatch.py:94(has_tensordot)\n",
      "       13    0.000    0.000    0.000    0.000 traitlets.py:1323(compress)\n",
      "       61    0.000    0.000    0.000    0.000 {method 'append' of 'collections.deque' objects}\n",
      "       46    0.000    0.000    0.000    0.000 {method 'copy' of 'dict' objects}\n",
      "       49    0.000    0.000    0.000    0.000 {built-in method builtins.divmod}\n",
      "       20    0.000    0.000    0.000    0.000 {method 'write' of '_io.StringIO' objects}\n",
      "       13    0.000    0.000    0.000    0.000 {method 'release' of '_multiprocessing.SemLock' objects}\n",
      "       22    0.000    0.000    0.000    0.000 traitlets.py:2449(validate)\n",
      "       40    0.000    0.000    0.000    0.000 fromnumeric.py:2672(_amax_dispatcher)\n",
      "        2    0.000    0.000    0.000    0.000 threading.py:1430(current_thread)\n",
      "        1    0.000    0.000    0.005    0.005 zmqshell.py:80(publish)\n",
      "       44    0.000    0.000    0.000    0.000 {built-in method time.time}\n",
      "        1    0.000    0.000    0.007    0.007 formatters.py:906(__call__)\n",
      "       33    0.000    0.000    0.000    0.000 {method 'startswith' of 'str' objects}\n",
      "       45    0.000    0.000    0.000    0.000 hmac.py:139(_current)\n",
      "       13    0.000    0.000    0.000    0.000 {method 'acquire' of '_multiprocessing.SemLock' objects}\n",
      "        1    0.000    0.000    0.005    0.005 display_functions.py:45(publish_display_data)\n",
      "       11    0.000    0.000    0.000    0.000 comm.py:155(on_msg)\n",
      "        2    0.000    0.000    0.003    0.001 threading.py:288(wait)\n",
      "        7    0.000    0.000    0.000    0.000 trait_types.py:161(validate)\n",
      "      4/1    0.000    0.000    0.001    0.001 widget.py:775(_handle_displayed)\n",
      "        1    0.000    0.000    0.000    0.000 inspect.py:3043(_bind)\n",
      "        1    0.000    0.000    0.001    0.001 formatters.py:372(lookup)\n",
      "        2    0.000    0.000    0.003    0.002 threading.py:589(wait)\n",
      "        1    0.000    0.000    0.007    0.007 formatters.py:218(catch_format_error)\n",
      "        1    0.000    0.000    0.004    0.004 zmqshell.py:63(_flush_streams)\n",
      "        1    0.000    0.000    0.000    0.000 utils.py:282(_screen_shape_linux)\n",
      "       11    0.000    0.000    0.000    0.000 {built-in method from_bytes}\n",
      "       20    0.000    0.000    0.000    0.000 {method '__exit__' of '_thread.RLock' objects}\n",
      "        1    0.000    0.000    0.000    0.000 asyncio.py:23(__init__)\n",
      "       22    0.000    0.000    0.000    0.000 loader.py:243(_ensure_subconfig)\n",
      "        1    0.000    0.000    0.000    0.000 notebook.py:90(__repr__)\n",
      "        1    0.000    0.000    0.000    0.000 std.py:560(__new__)\n",
      "       11    0.000    0.000    0.000    0.000 {method 'remove' of 'list' objects}\n",
      "       13    0.000    0.000    0.000    0.000 configurable.py:565(initialized)\n",
      "       13    0.000    0.000    0.000    0.000 configurable.py:521(instance)\n",
      "        1    0.000    0.000    0.000    0.000 utils.py:222(_is_ascii)\n",
      "       37    0.000    0.000    0.000    0.000 {method 'keys' of 'dict' objects}\n",
      "       11    0.000    0.000    0.000    0.000 widget.py:334(_call_widget_constructed)\n",
      "        2    0.000    0.000    0.052    0.026 widget_string.py:29(__init__)\n",
      "       13    0.000    0.000    0.000    0.000 {method 'release' of '_thread.RLock' objects}\n",
      "       33    0.000    0.000    0.000    0.000 {method 'upper' of 'str' objects}\n",
      "       13    0.000    0.000    0.000    0.000 {method 'acquire' of '_thread.RLock' objects}\n",
      "        3    0.000    0.000    0.000    0.000 traitlets.py:3182(validate)\n",
      "        1    0.000    0.000    0.000    0.000 std.py:188(__format__)\n",
      "       11    0.000    0.000    0.000    0.000 {method 'count' of 'list' objects}\n",
      "       37    0.000    0.000    0.000    0.000 {method 'values' of 'dict' objects}\n",
      "        4    0.000    0.000    0.000    0.000 threading.py:1145(ident)\n",
      "        1    0.000    0.000    0.000    0.000 std.py:1279(close)\n",
      "       24    0.000    0.000    0.000    0.000 {method 'lower' of 'str' objects}\n",
      "       11    0.000    0.000    0.000    0.000 traitlets.py:2332(validate)\n",
      "        1    0.000    0.000    0.000    0.000 inspect.py:2833(apply_defaults)\n",
      "      4/1    0.000    0.000    0.001    0.001 widget.py:201(__call__)\n",
      "        1    0.000    0.000    0.000    0.000 std.py:576(_get_free_pos)\n",
      "        2    0.000    0.000    0.000    0.000 threading.py:267(__exit__)\n",
      "        2    0.000    0.000    0.000    0.000 threading.py:264(__enter__)\n",
      "        2    0.000    0.000    0.000    0.000 {built-in method utcfromtimestamp}\n",
      "        1    0.000    0.000    0.001    0.001 widget_box.py:67(_fire_children_displayed)\n",
      "        1    0.000    0.000    0.000    0.000 {built-in method builtins.repr}\n",
      "        1    0.000    0.000    0.010    0.010 formatters.py:89(format)\n",
      "        1    0.000    0.000    0.000    0.000 std.py:155(__init__)\n",
      "        1    0.000    0.000    0.000    0.000 utils.py:162(__init__)\n",
      "        4    0.000    0.000    0.000    0.000 {built-in method _thread.allocate_lock}\n",
      "        2    0.000    0.000    0.000    0.000 notebook.py:205(colour)\n",
      "       33    0.000    0.000    0.000    0.000 {function Config.__contains__ at 0x7f4c4e367a30}\n",
      "        1    0.000    0.000    0.000    0.000 decorator.py:199(fix)\n",
      "        1    0.000    0.000    0.000    0.000 dir2.py:54(get_real_method)\n",
      "        1    0.000    0.000    0.000    0.000 inspect.py:2780(args)\n",
      "        1    0.000    0.000    0.011    0.011 widget_float.py:23(__init__)\n",
      "        3    0.000    0.000    0.000    0.000 {built-in method builtins.id}\n",
      "        1    0.000    0.000    0.000    0.000 notebook.py:81(_repr_json_)\n",
      "        1    0.000    0.000    0.000    0.000 std.py:583(_decr_instances)\n",
      "        1    0.000    0.000    0.000    0.000 os.py:754(encode)\n",
      "        2    0.000    0.000    0.000    0.000 threading.py:273(_release_save)\n",
      "        1    0.000    0.000    0.000    0.000 os.py:674(__getitem__)\n",
      "        2    0.000    0.000    0.000    0.000 threading.py:276(_acquire_restore)\n",
      "        3    0.000    0.000    0.000    0.000 traitlets.py:3189(validate_elements)\n",
      "        1    0.000    0.000    0.000    0.000 _weakrefset.py:86(add)\n",
      "        2    0.000    0.000    0.000    0.000 _weakrefset.py:63(__iter__)\n",
      "        3    0.000    0.000    0.000    0.000 utils.py:101(wrapper_setattr)\n",
      "        1    0.000    0.000    0.000    0.000 _weakrefset.py:111(remove)\n",
      "        1    0.000    0.000    0.000    0.000 cProfile.py:117(__exit__)\n",
      "        1    0.000    0.000    0.001    0.001 widget.py:653(on_displayed)\n",
      "        3    0.000    0.000    0.000    0.000 std.py:112(__enter__)\n",
      "        1    0.000    0.000    0.000    0.000 pretty.py:321(_get_mro)\n",
      "        2    0.000    0.000    0.000    0.000 {method 'remove' of 'set' objects}\n",
      "        1    0.000    0.000    0.000    0.000 formatters.py:272(_get_type)\n",
      "        1    0.000    0.000    0.000    0.000 inspect.py:2803(kwargs)\n",
      "        1    0.000    0.000    0.000    0.000 _weakrefset.py:27(__exit__)\n",
      "       11    0.000    0.000    0.000    0.000 {built-in method builtins.ord}\n",
      "        1    0.000    0.000    0.000    0.000 utils.py:296(<listcomp>)\n",
      "        1    0.000    0.000    0.000    0.000 _weakrefset.py:53(_commit_removals)\n",
      "        1    0.000    0.000    0.000    0.000 zmqshell.py:73(_hooks)\n",
      "        2    0.000    0.000    0.000    0.000 utils.py:136(disable_on_exception)\n",
      "        1    0.000    0.000    0.000    0.000 widget.py:55(<listcomp>)\n",
      "        1    0.000    0.000    0.000    0.000 utils.py:61(__format__)\n",
      "        1    0.000    0.000    0.000    0.000 widget.py:217(register_callback)\n",
      "        2    0.000    0.000    0.000    0.000 std.py:1171(__hash__)\n",
      "        1    0.000    0.000    0.000    0.000 displaypub.py:43(_validate_data)\n",
      "        1    0.000    0.000    0.000    0.000 std.py:1161(__del__)\n",
      "        1    0.000    0.000    0.000    0.000 utils.py:74(__eq__)\n",
      "        3    0.000    0.000    0.000    0.000 std.py:115(__exit__)\n",
      "        2    0.000    0.000    0.000    0.000 std.py:1167(_comparable)\n",
      "        1    0.000    0.000    0.000    0.000 std.py:657(get_lock)\n",
      "        2    0.000    0.000    0.000    0.000 utils.py:171(__eq__)\n",
      "        1    0.000    0.000    0.000    0.000 utils.py:215(_supports_unicode)\n",
      "        1    0.000    0.000    0.000    0.000 widget_float.py:51(_validate_max)\n",
      "        2    0.000    0.000    0.000    0.000 threading.py:279(_is_owned)\n",
      "        1    0.000    0.000    0.000    0.000 utils.py:105(__init__)\n",
      "        3    0.000    0.000    0.000    0.000 std.py:228(__init__)\n",
      "        1    0.000    0.000    0.000    0.000 inspect.py:191(isclass)\n",
      "        2    0.000    0.000    0.000    0.000 {method 'add' of 'set' objects}\n",
      "        1    0.000    0.000    0.000    0.000 _weakrefset.py:21(__enter__)\n",
      "        1    0.000    0.000    0.000    0.000 inspect.py:3174(bind)\n",
      "        1    0.000    0.000    0.000    0.000 formatters.py:357(_check_return)\n",
      "        3    0.000    0.000    0.000    0.000 {built-in method _weakref.proxy}\n",
      "        1    0.000    0.000    0.000    0.000 std.py:169(colour)\n",
      "        2    0.000    0.000    0.000    0.000 {method '__exit__' of '_thread.lock' objects}\n",
      "        1    0.000    0.000    0.000    0.000 _monitor.py:94(report)\n",
      "        3    0.000    0.000    0.000    0.000 {method 'items' of 'mappingproxy' objects}\n",
      "       10    0.000    0.000    0.000    0.000 inspect.py:2692(kind)\n",
      "        2    0.000    0.000    0.000    0.000 utils.py:88(__getattr__)\n",
      "        2    0.000    0.000    0.000    0.000 {method '__enter__' of '_thread.lock' objects}\n",
      "        4    0.000    0.000    0.000    0.000 inspect.py:2999(parameters)\n",
      "        1    0.000    0.000    0.000    0.000 std.py:579(<setcomp>)\n",
      "        2    0.000    0.000    0.000    0.000 {method 'release' of '_thread.lock' objects}\n",
      "        1    0.000    0.000    0.000    0.000 {method 'values' of 'mappingproxy' objects}\n",
      "        1    0.000    0.000    0.000    0.000 utils.py:201(_is_utf)\n",
      "        1    0.000    0.000    0.000    0.000 inspect.py:2772(__init__)\n",
      "        1    0.000    0.000    0.000    0.000 _weakrefset.py:17(__init__)\n",
      "        1    0.000    0.000    0.000    0.000 iostream.py:304(fileno)\n",
      "        1    0.000    0.000    0.000    0.000 {method 'disable' of '_lsprof.Profiler' objects}\n",
      "        1    0.000    0.000    0.000    0.000 std.py:165(colour)\n",
      "        1    0.000    0.000    0.000    0.000 jsonutil.py:52(encode_images)\n",
      "        1    0.000    0.000    0.000    0.000 {built-in method builtins.min}\n",
      "        4    0.000    0.000    0.000    0.000 inspect.py:2680(name)\n",
      "        1    0.000    0.000    0.000    0.000 {method 'difference' of 'set' objects}\n",
      "        3    0.000    0.000    0.000    0.000 {built-in method builtins.abs}\n",
      "        1    0.000    0.000    0.000    0.000 utils.py:231(_screen_shape_wrapper)\n",
      "\n",
      "\n"
     ]
    }
   ],
   "source": [
    "profile.print_stats(\"tottime\")"
   ]
  },
  {
   "cell_type": "code",
   "execution_count": 27,
   "metadata": {},
   "outputs": [
    {
     "data": {
      "text/plain": [
       "1.5973618e-19"
      ]
     },
     "execution_count": 27,
     "metadata": {},
     "output_type": "execute_result"
    }
   ],
   "source": [
    "max_bond = chi.value\n",
    "M = contract_tensors(T, T)\n",
    "S, Ul, Ur = hosvd_sides(M)\n",
    "error_left(S, max_bond)"
   ]
  },
  {
   "cell_type": "code",
   "execution_count": 28,
   "metadata": {},
   "outputs": [
    {
     "data": {
      "text/plain": [
       "0.05336892"
      ]
     },
     "execution_count": 28,
     "metadata": {},
     "output_type": "execute_result"
    }
   ],
   "source": [
    "error_left(M, max_bond)"
   ]
  },
  {
   "cell_type": "code",
   "execution_count": 32,
   "metadata": {},
   "outputs": [
    {
     "data": {
      "text/plain": [
       "1.1956294"
      ]
     },
     "execution_count": 32,
     "metadata": {},
     "output_type": "execute_result"
    }
   ],
   "source": [
    "np.sum(np.square(np.abs(M)))"
   ]
  },
  {
   "cell_type": "code",
   "execution_count": 33,
   "metadata": {},
   "outputs": [
    {
     "data": {
      "text/plain": [
       "1.1956294"
      ]
     },
     "execution_count": 33,
     "metadata": {},
     "output_type": "execute_result"
    }
   ],
   "source": [
    "np.sum(np.square(np.abs(S)))"
   ]
  },
  {
   "cell_type": "code",
   "execution_count": 34,
   "metadata": {},
   "outputs": [
    {
     "data": {
      "text/plain": [
       "1.1956289"
      ]
     },
     "execution_count": 34,
     "metadata": {},
     "output_type": "execute_result"
    }
   ],
   "source": [
    "np.sum(np.square(np.abs(update_tensor(Ul, M))))"
   ]
  },
  {
   "cell_type": "code",
   "execution_count": null,
   "metadata": {},
   "outputs": [
    {
     "data": {
      "text/plain": [
       "1.1956289"
      ]
     },
     "metadata": {},
     "output_type": "display_data"
    }
   ],
   "source": [
    "np.sum(np.square(np.abs(update_tensor(Ul, M))))"
   ]
  },
  {
   "cell_type": "code",
   "execution_count": 35,
   "metadata": {},
   "outputs": [
    {
     "data": {
      "text/plain": [
       "1.195629"
      ]
     },
     "execution_count": 35,
     "metadata": {},
     "output_type": "execute_result"
    }
   ],
   "source": [
    "np.sum(np.square(np.abs(update_tensor(Ur, M))))"
   ]
  },
  {
   "cell_type": "code",
   "execution_count": null,
   "metadata": {},
   "outputs": [],
   "source": []
  }
 ],
 "metadata": {
  "kernelspec": {
   "display_name": "Python 3.10.5 64-bit ('hotrg')",
   "language": "python",
   "name": "python3"
  },
  "language_info": {
   "codemirror_mode": {
    "name": "ipython",
    "version": 3
   },
   "file_extension": ".py",
   "mimetype": "text/x-python",
   "name": "python",
   "nbconvert_exporter": "python",
   "pygments_lexer": "ipython3",
   "version": "3.10.5"
  },
  "orig_nbformat": 4,
  "vscode": {
   "interpreter": {
    "hash": "c41102c023dd45a192812da0cf4074a63bc8a52571a475c6a33d200812a60702"
   }
  }
 },
 "nbformat": 4,
 "nbformat_minor": 2
}
