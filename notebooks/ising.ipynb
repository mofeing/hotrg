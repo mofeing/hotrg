{
 "cells": [
  {
   "cell_type": "code",
   "execution_count": 1,
   "metadata": {},
   "outputs": [],
   "source": [
    "import numpy as np\n",
    "import ten\n",
    "import ipywidgets as widgets"
   ]
  },
  {
   "cell_type": "markdown",
   "metadata": {},
   "source": [
    "$$\n",
    "W = \\begin{pmatrix}\n",
    "\\sqrt{\\cosh(1/t)} & \\sqrt{\\sinh(1/t)} \\\\\n",
    "\\sqrt{\\cosh(1/t)} & -\\sqrt{\\sinh(1/t)}\n",
    "\\end{pmatrix}\n",
    "$$"
   ]
  },
  {
   "cell_type": "code",
   "execution_count": 2,
   "metadata": {},
   "outputs": [],
   "source": [
    "def W(temp: float, dtype=np.float32) -> np.ndarray:\n",
    "\treturn np.array([\n",
    "\t\t[np.sqrt(np.cosh(1/temp)), np.sqrt(np.sinh(1/temp))],\n",
    "\t\t[np.sqrt(np.cosh(1/temp)), -np.sqrt(np.sinh(1/temp))],\n",
    "\t], dtype=dtype)"
   ]
  },
  {
   "cell_type": "markdown",
   "metadata": {},
   "source": [
    "$$\n",
    "T_{lrud} = \\sum_\\alpha W_{\\alpha,l} W_{\\alpha,r} W_{\\alpha,u} W_{\\alpha,d}\n",
    "$$"
   ]
  },
  {
   "cell_type": "code",
   "execution_count": 3,
   "metadata": {},
   "outputs": [],
   "source": [
    "def T(temp: float, dtype=np.float32) -> np.ndarray:\n",
    "\tw = W(temp, dtype)\n",
    "\treturn np.einsum(\"al,ar,au,ad->lrud\", w, w, w, w)"
   ]
  },
  {
   "cell_type": "code",
   "execution_count": 4,
   "metadata": {},
   "outputs": [
    {
     "data": {
      "application/vnd.jupyter.widget-view+json": {
       "model_id": "7420997342064a2abfb531823e3a257d",
       "version_major": 2,
       "version_minor": 0
      },
      "text/plain": [
       "FloatSlider(value=2.0, max=5.0, min=2.0)"
      ]
     },
     "metadata": {},
     "output_type": "display_data"
    }
   ],
   "source": [
    "temperature = widgets.FloatSlider(min=2, max=5)\n",
    "temperature"
   ]
  },
  {
   "cell_type": "code",
   "execution_count": 48,
   "metadata": {},
   "outputs": [
    {
     "data": {
      "application/vnd.jupyter.widget-view+json": {
       "model_id": "84c3692d1f9d467baf68353981541470",
       "version_major": 2,
       "version_minor": 0
      },
      "text/plain": [
       "IntSlider(value=2, max=16, min=2)"
      ]
     },
     "metadata": {},
     "output_type": "display_data"
    }
   ],
   "source": [
    "Dslider = widgets.IntSlider(min=2, max=16)\n",
    "\n",
    "class SliderValue:\n",
    "\tdef __init__(self,slider):\n",
    "\t\tself.slider = slider\n",
    "\tdef __get__(self, obj, type=None):\n",
    "\t\treturn self.slider.value\n",
    "\tdef __int__(self):\n",
    "\t\treturn self.slider.value\n",
    "\n",
    "D = SliderValue(Dslider)\n",
    "Dslider"
   ]
  },
  {
   "cell_type": "code",
   "execution_count": 49,
   "metadata": {},
   "outputs": [
    {
     "data": {
      "text/plain": [
       "array([[[[2.5430813 , 0.        ],\n",
       "         [0.        , 1.1752013 ]],\n",
       "\n",
       "        [[0.        , 1.1752013 ],\n",
       "         [1.1752013 , 0.        ]]],\n",
       "\n",
       "\n",
       "       [[[0.        , 1.1752013 ],\n",
       "         [1.1752013 , 0.        ]],\n",
       "\n",
       "        [[1.1752013 , 0.        ],\n",
       "         [0.        , 0.54308057]]]], dtype=float32)"
      ]
     },
     "execution_count": 49,
     "metadata": {},
     "output_type": "execute_result"
    }
   ],
   "source": [
    "t = T(temperature.value)\n",
    "t"
   ]
  },
  {
   "cell_type": "code",
   "execution_count": 50,
   "metadata": {},
   "outputs": [],
   "source": [
    "def M(tensor: np.ndarray) -> np.ndarray:\n",
    "\tm = np.einsum(\"abci,deif->adbecf\", tensor, tensor)\n",
    "\treturn m.reshape((m.shape[0]*m.shape[1], m.shape[2]*m.shape[3], m.shape[4], m.shape[5]))"
   ]
  },
  {
   "cell_type": "code",
   "execution_count": 51,
   "metadata": {},
   "outputs": [],
   "source": [
    "m = M(t)\n",
    "S, Us = ten.hosvd(m)"
   ]
  },
  {
   "cell_type": "code",
   "execution_count": 54,
   "metadata": {},
   "outputs": [
    {
     "data": {
      "text/plain": [
       "10.105166673660278"
      ]
     },
     "execution_count": 54,
     "metadata": {},
     "output_type": "execute_result"
    }
   ],
   "source": [
    "eps1 = sum(np.sum(np.square(np.abs(S[i,:]))) for i in range(int(D), S.shape[0]))\n",
    "eps1"
   ]
  },
  {
   "cell_type": "code",
   "execution_count": 55,
   "metadata": {},
   "outputs": [
    {
     "data": {
      "text/plain": [
       "10.105167388916016"
      ]
     },
     "execution_count": 55,
     "metadata": {},
     "output_type": "execute_result"
    }
   ],
   "source": [
    "eps2 = sum(np.sum(np.square(np.abs(S[:,j,:]))) for j in range(int(D), S.shape[1]))\n",
    "eps2"
   ]
  },
  {
   "cell_type": "code",
   "execution_count": 56,
   "metadata": {},
   "outputs": [],
   "source": [
    "# TODO renormalize\n",
    "if eps1 < eps2:\n",
    "\tS = S[0:int(D), :]\n",
    "\tUs[0] = Us[0][:,0:int(D)]\n",
    "else:\n",
    "\tS = S[:, 0:int(D), :]\n",
    "\tUs[1] = Us[1][:,0:int(D)]"
   ]
  },
  {
   "cell_type": "code",
   "execution_count": 57,
   "metadata": {},
   "outputs": [
    {
     "data": {
      "text/plain": [
       "(2, 4, 2, 2)"
      ]
     },
     "execution_count": 57,
     "metadata": {},
     "output_type": "execute_result"
    }
   ],
   "source": []
  },
  {
   "cell_type": "code",
   "execution_count": null,
   "metadata": {},
   "outputs": [],
   "source": []
  }
 ],
 "metadata": {
  "interpreter": {
   "hash": "93f9bcb99ac5c66ad936e4348f362701bc0eee043727f25c2b3b324402f4c06f"
  },
  "kernelspec": {
   "display_name": "Python 3.10.3 ('.venv': venv)",
   "language": "python",
   "name": "python3"
  },
  "language_info": {
   "codemirror_mode": {
    "name": "ipython",
    "version": 3
   },
   "file_extension": ".py",
   "mimetype": "text/x-python",
   "name": "python",
   "nbconvert_exporter": "python",
   "pygments_lexer": "ipython3",
   "version": "3.10.3"
  },
  "orig_nbformat": 4
 },
 "nbformat": 4,
 "nbformat_minor": 2
}
